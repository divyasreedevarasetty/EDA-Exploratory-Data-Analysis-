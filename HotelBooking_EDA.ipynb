{
 "cells": [
  {
   "cell_type": "markdown",
   "id": "43c79e87-b605-4729-a888-077efdd39c40",
   "metadata": {},
   "source": [
    "# Hotel Booking Dataset - Exploratory Data Analysis"
   ]
  },
  {
   "cell_type": "markdown",
   "id": "8b615518-f138-430d-aa77-45e2deac5a22",
   "metadata": {},
   "source": [
    "This dataset includes various information related to hotel reservations. Each row in this dataset represents a specific reservation, and each column indicates different attributes associated with the reservation.\n"
   ]
  },
  {
   "cell_type": "markdown",
   "id": "db3582a2-0d5c-4f7a-9608-bd97398a56b0",
   "metadata": {},
   "source": [
    "## Import Libraries"
   ]
  },
  {
   "cell_type": "code",
   "execution_count": 2,
   "id": "08ebcc2d-7cb0-4ae7-9f40-056f1f08cbcf",
   "metadata": {},
   "outputs": [],
   "source": [
    "import numpy as np\n",
    "import pandas as pd\n",
    "import matplotlib.pyplot as plt\n",
    "import seaborn as sns"
   ]
  },
  {
   "cell_type": "markdown",
   "id": "dda6a58a-035a-4caf-95c3-68949625b63c",
   "metadata": {},
   "source": [
    "## Load the Dataset"
   ]
  },
  {
   "cell_type": "code",
   "execution_count": 3,
   "id": "e5621291-9506-4207-9738-912c5232a772",
   "metadata": {},
   "outputs": [],
   "source": [
    "df = pd.read_csv('hotel_booking.csv')"
   ]
  },
  {
   "cell_type": "code",
   "execution_count": 4,
   "id": "86497212-e14e-4148-93de-597cd8c4a01b",
   "metadata": {},
   "outputs": [
    {
     "data": {
      "text/html": [
       "<div>\n",
       "<style scoped>\n",
       "    .dataframe tbody tr th:only-of-type {\n",
       "        vertical-align: middle;\n",
       "    }\n",
       "\n",
       "    .dataframe tbody tr th {\n",
       "        vertical-align: top;\n",
       "    }\n",
       "\n",
       "    .dataframe thead th {\n",
       "        text-align: right;\n",
       "    }\n",
       "</style>\n",
       "<table border=\"1\" class=\"dataframe\">\n",
       "  <thead>\n",
       "    <tr style=\"text-align: right;\">\n",
       "      <th></th>\n",
       "      <th>hotel</th>\n",
       "      <th>is_canceled</th>\n",
       "      <th>lead_time</th>\n",
       "      <th>arrival_date_year</th>\n",
       "      <th>arrival_date_month</th>\n",
       "      <th>arrival_date_week_number</th>\n",
       "      <th>arrival_date_day_of_month</th>\n",
       "      <th>stays_in_weekend_nights</th>\n",
       "      <th>stays_in_week_nights</th>\n",
       "      <th>adults</th>\n",
       "      <th>...</th>\n",
       "      <th>customer_type</th>\n",
       "      <th>adr</th>\n",
       "      <th>required_car_parking_spaces</th>\n",
       "      <th>total_of_special_requests</th>\n",
       "      <th>reservation_status</th>\n",
       "      <th>reservation_status_date</th>\n",
       "      <th>name</th>\n",
       "      <th>email</th>\n",
       "      <th>phone-number</th>\n",
       "      <th>credit_card</th>\n",
       "    </tr>\n",
       "  </thead>\n",
       "  <tbody>\n",
       "    <tr>\n",
       "      <th>0</th>\n",
       "      <td>Resort Hotel</td>\n",
       "      <td>0</td>\n",
       "      <td>342</td>\n",
       "      <td>2015</td>\n",
       "      <td>July</td>\n",
       "      <td>27</td>\n",
       "      <td>1</td>\n",
       "      <td>0</td>\n",
       "      <td>0</td>\n",
       "      <td>2</td>\n",
       "      <td>...</td>\n",
       "      <td>Transient</td>\n",
       "      <td>0.0</td>\n",
       "      <td>0</td>\n",
       "      <td>0</td>\n",
       "      <td>Check-Out</td>\n",
       "      <td>2015-07-01</td>\n",
       "      <td>Ernest Barnes</td>\n",
       "      <td>Ernest.Barnes31@outlook.com</td>\n",
       "      <td>669-792-1661</td>\n",
       "      <td>************4322</td>\n",
       "    </tr>\n",
       "    <tr>\n",
       "      <th>1</th>\n",
       "      <td>Resort Hotel</td>\n",
       "      <td>0</td>\n",
       "      <td>737</td>\n",
       "      <td>2015</td>\n",
       "      <td>July</td>\n",
       "      <td>27</td>\n",
       "      <td>1</td>\n",
       "      <td>0</td>\n",
       "      <td>0</td>\n",
       "      <td>2</td>\n",
       "      <td>...</td>\n",
       "      <td>Transient</td>\n",
       "      <td>0.0</td>\n",
       "      <td>0</td>\n",
       "      <td>0</td>\n",
       "      <td>Check-Out</td>\n",
       "      <td>2015-07-01</td>\n",
       "      <td>Andrea Baker</td>\n",
       "      <td>Andrea_Baker94@aol.com</td>\n",
       "      <td>858-637-6955</td>\n",
       "      <td>************9157</td>\n",
       "    </tr>\n",
       "    <tr>\n",
       "      <th>2</th>\n",
       "      <td>Resort Hotel</td>\n",
       "      <td>0</td>\n",
       "      <td>7</td>\n",
       "      <td>2015</td>\n",
       "      <td>July</td>\n",
       "      <td>27</td>\n",
       "      <td>1</td>\n",
       "      <td>0</td>\n",
       "      <td>1</td>\n",
       "      <td>1</td>\n",
       "      <td>...</td>\n",
       "      <td>Transient</td>\n",
       "      <td>75.0</td>\n",
       "      <td>0</td>\n",
       "      <td>0</td>\n",
       "      <td>Check-Out</td>\n",
       "      <td>2015-07-02</td>\n",
       "      <td>Rebecca Parker</td>\n",
       "      <td>Rebecca_Parker@comcast.net</td>\n",
       "      <td>652-885-2745</td>\n",
       "      <td>************3734</td>\n",
       "    </tr>\n",
       "    <tr>\n",
       "      <th>3</th>\n",
       "      <td>Resort Hotel</td>\n",
       "      <td>0</td>\n",
       "      <td>13</td>\n",
       "      <td>2015</td>\n",
       "      <td>July</td>\n",
       "      <td>27</td>\n",
       "      <td>1</td>\n",
       "      <td>0</td>\n",
       "      <td>1</td>\n",
       "      <td>1</td>\n",
       "      <td>...</td>\n",
       "      <td>Transient</td>\n",
       "      <td>75.0</td>\n",
       "      <td>0</td>\n",
       "      <td>0</td>\n",
       "      <td>Check-Out</td>\n",
       "      <td>2015-07-02</td>\n",
       "      <td>Laura Murray</td>\n",
       "      <td>Laura_M@gmail.com</td>\n",
       "      <td>364-656-8427</td>\n",
       "      <td>************5677</td>\n",
       "    </tr>\n",
       "    <tr>\n",
       "      <th>4</th>\n",
       "      <td>Resort Hotel</td>\n",
       "      <td>0</td>\n",
       "      <td>14</td>\n",
       "      <td>2015</td>\n",
       "      <td>July</td>\n",
       "      <td>27</td>\n",
       "      <td>1</td>\n",
       "      <td>0</td>\n",
       "      <td>2</td>\n",
       "      <td>2</td>\n",
       "      <td>...</td>\n",
       "      <td>Transient</td>\n",
       "      <td>98.0</td>\n",
       "      <td>0</td>\n",
       "      <td>1</td>\n",
       "      <td>Check-Out</td>\n",
       "      <td>2015-07-03</td>\n",
       "      <td>Linda Hines</td>\n",
       "      <td>LHines@verizon.com</td>\n",
       "      <td>713-226-5883</td>\n",
       "      <td>************5498</td>\n",
       "    </tr>\n",
       "  </tbody>\n",
       "</table>\n",
       "<p>5 rows × 36 columns</p>\n",
       "</div>"
      ],
      "text/plain": [
       "          hotel  is_canceled  lead_time  arrival_date_year arrival_date_month  \\\n",
       "0  Resort Hotel            0        342               2015               July   \n",
       "1  Resort Hotel            0        737               2015               July   \n",
       "2  Resort Hotel            0          7               2015               July   \n",
       "3  Resort Hotel            0         13               2015               July   \n",
       "4  Resort Hotel            0         14               2015               July   \n",
       "\n",
       "   arrival_date_week_number  arrival_date_day_of_month  \\\n",
       "0                        27                          1   \n",
       "1                        27                          1   \n",
       "2                        27                          1   \n",
       "3                        27                          1   \n",
       "4                        27                          1   \n",
       "\n",
       "   stays_in_weekend_nights  stays_in_week_nights  adults  ...  customer_type  \\\n",
       "0                        0                     0       2  ...      Transient   \n",
       "1                        0                     0       2  ...      Transient   \n",
       "2                        0                     1       1  ...      Transient   \n",
       "3                        0                     1       1  ...      Transient   \n",
       "4                        0                     2       2  ...      Transient   \n",
       "\n",
       "    adr required_car_parking_spaces total_of_special_requests  \\\n",
       "0   0.0                           0                         0   \n",
       "1   0.0                           0                         0   \n",
       "2  75.0                           0                         0   \n",
       "3  75.0                           0                         0   \n",
       "4  98.0                           0                         1   \n",
       "\n",
       "  reservation_status reservation_status_date            name  \\\n",
       "0          Check-Out              2015-07-01   Ernest Barnes   \n",
       "1          Check-Out              2015-07-01    Andrea Baker   \n",
       "2          Check-Out              2015-07-02  Rebecca Parker   \n",
       "3          Check-Out              2015-07-02    Laura Murray   \n",
       "4          Check-Out              2015-07-03     Linda Hines   \n",
       "\n",
       "                         email  phone-number       credit_card  \n",
       "0  Ernest.Barnes31@outlook.com  669-792-1661  ************4322  \n",
       "1       Andrea_Baker94@aol.com  858-637-6955  ************9157  \n",
       "2   Rebecca_Parker@comcast.net  652-885-2745  ************3734  \n",
       "3            Laura_M@gmail.com  364-656-8427  ************5677  \n",
       "4           LHines@verizon.com  713-226-5883  ************5498  \n",
       "\n",
       "[5 rows x 36 columns]"
      ]
     },
     "execution_count": 4,
     "metadata": {},
     "output_type": "execute_result"
    }
   ],
   "source": [
    "df.head()"
   ]
  },
  {
   "cell_type": "code",
   "execution_count": 5,
   "id": "bb62926d-fa2c-48d4-839d-6a85fb07a14e",
   "metadata": {},
   "outputs": [
    {
     "data": {
      "text/html": [
       "<div>\n",
       "<style scoped>\n",
       "    .dataframe tbody tr th:only-of-type {\n",
       "        vertical-align: middle;\n",
       "    }\n",
       "\n",
       "    .dataframe tbody tr th {\n",
       "        vertical-align: top;\n",
       "    }\n",
       "\n",
       "    .dataframe thead th {\n",
       "        text-align: right;\n",
       "    }\n",
       "</style>\n",
       "<table border=\"1\" class=\"dataframe\">\n",
       "  <thead>\n",
       "    <tr style=\"text-align: right;\">\n",
       "      <th></th>\n",
       "      <th>hotel</th>\n",
       "      <th>is_canceled</th>\n",
       "      <th>lead_time</th>\n",
       "      <th>arrival_date_year</th>\n",
       "      <th>arrival_date_month</th>\n",
       "      <th>arrival_date_week_number</th>\n",
       "      <th>arrival_date_day_of_month</th>\n",
       "      <th>stays_in_weekend_nights</th>\n",
       "      <th>stays_in_week_nights</th>\n",
       "      <th>adults</th>\n",
       "      <th>...</th>\n",
       "      <th>customer_type</th>\n",
       "      <th>adr</th>\n",
       "      <th>required_car_parking_spaces</th>\n",
       "      <th>total_of_special_requests</th>\n",
       "      <th>reservation_status</th>\n",
       "      <th>reservation_status_date</th>\n",
       "      <th>name</th>\n",
       "      <th>email</th>\n",
       "      <th>phone-number</th>\n",
       "      <th>credit_card</th>\n",
       "    </tr>\n",
       "  </thead>\n",
       "  <tbody>\n",
       "    <tr>\n",
       "      <th>119385</th>\n",
       "      <td>City Hotel</td>\n",
       "      <td>0</td>\n",
       "      <td>23</td>\n",
       "      <td>2017</td>\n",
       "      <td>August</td>\n",
       "      <td>35</td>\n",
       "      <td>30</td>\n",
       "      <td>2</td>\n",
       "      <td>5</td>\n",
       "      <td>2</td>\n",
       "      <td>...</td>\n",
       "      <td>Transient</td>\n",
       "      <td>96.14</td>\n",
       "      <td>0</td>\n",
       "      <td>0</td>\n",
       "      <td>Check-Out</td>\n",
       "      <td>2017-09-06</td>\n",
       "      <td>Claudia Johnson</td>\n",
       "      <td>Claudia.J@yahoo.com</td>\n",
       "      <td>403-092-5582</td>\n",
       "      <td>************8647</td>\n",
       "    </tr>\n",
       "    <tr>\n",
       "      <th>119386</th>\n",
       "      <td>City Hotel</td>\n",
       "      <td>0</td>\n",
       "      <td>102</td>\n",
       "      <td>2017</td>\n",
       "      <td>August</td>\n",
       "      <td>35</td>\n",
       "      <td>31</td>\n",
       "      <td>2</td>\n",
       "      <td>5</td>\n",
       "      <td>3</td>\n",
       "      <td>...</td>\n",
       "      <td>Transient</td>\n",
       "      <td>225.43</td>\n",
       "      <td>0</td>\n",
       "      <td>2</td>\n",
       "      <td>Check-Out</td>\n",
       "      <td>2017-09-07</td>\n",
       "      <td>Wesley Aguilar</td>\n",
       "      <td>WAguilar@xfinity.com</td>\n",
       "      <td>238-763-0612</td>\n",
       "      <td>************4333</td>\n",
       "    </tr>\n",
       "    <tr>\n",
       "      <th>119387</th>\n",
       "      <td>City Hotel</td>\n",
       "      <td>0</td>\n",
       "      <td>34</td>\n",
       "      <td>2017</td>\n",
       "      <td>August</td>\n",
       "      <td>35</td>\n",
       "      <td>31</td>\n",
       "      <td>2</td>\n",
       "      <td>5</td>\n",
       "      <td>2</td>\n",
       "      <td>...</td>\n",
       "      <td>Transient</td>\n",
       "      <td>157.71</td>\n",
       "      <td>0</td>\n",
       "      <td>4</td>\n",
       "      <td>Check-Out</td>\n",
       "      <td>2017-09-07</td>\n",
       "      <td>Mary Morales</td>\n",
       "      <td>Mary_Morales@hotmail.com</td>\n",
       "      <td>395-518-4100</td>\n",
       "      <td>************1821</td>\n",
       "    </tr>\n",
       "    <tr>\n",
       "      <th>119388</th>\n",
       "      <td>City Hotel</td>\n",
       "      <td>0</td>\n",
       "      <td>109</td>\n",
       "      <td>2017</td>\n",
       "      <td>August</td>\n",
       "      <td>35</td>\n",
       "      <td>31</td>\n",
       "      <td>2</td>\n",
       "      <td>5</td>\n",
       "      <td>2</td>\n",
       "      <td>...</td>\n",
       "      <td>Transient</td>\n",
       "      <td>104.40</td>\n",
       "      <td>0</td>\n",
       "      <td>0</td>\n",
       "      <td>Check-Out</td>\n",
       "      <td>2017-09-07</td>\n",
       "      <td>Caroline Conley MD</td>\n",
       "      <td>MD_Caroline@comcast.net</td>\n",
       "      <td>531-528-1017</td>\n",
       "      <td>************7860</td>\n",
       "    </tr>\n",
       "    <tr>\n",
       "      <th>119389</th>\n",
       "      <td>City Hotel</td>\n",
       "      <td>0</td>\n",
       "      <td>205</td>\n",
       "      <td>2017</td>\n",
       "      <td>August</td>\n",
       "      <td>35</td>\n",
       "      <td>29</td>\n",
       "      <td>2</td>\n",
       "      <td>7</td>\n",
       "      <td>2</td>\n",
       "      <td>...</td>\n",
       "      <td>Transient</td>\n",
       "      <td>151.20</td>\n",
       "      <td>0</td>\n",
       "      <td>2</td>\n",
       "      <td>Check-Out</td>\n",
       "      <td>2017-09-07</td>\n",
       "      <td>Ariana Michael</td>\n",
       "      <td>Ariana_M@xfinity.com</td>\n",
       "      <td>422-804-6403</td>\n",
       "      <td>************4482</td>\n",
       "    </tr>\n",
       "  </tbody>\n",
       "</table>\n",
       "<p>5 rows × 36 columns</p>\n",
       "</div>"
      ],
      "text/plain": [
       "             hotel  is_canceled  lead_time  arrival_date_year  \\\n",
       "119385  City Hotel            0         23               2017   \n",
       "119386  City Hotel            0        102               2017   \n",
       "119387  City Hotel            0         34               2017   \n",
       "119388  City Hotel            0        109               2017   \n",
       "119389  City Hotel            0        205               2017   \n",
       "\n",
       "       arrival_date_month  arrival_date_week_number  \\\n",
       "119385             August                        35   \n",
       "119386             August                        35   \n",
       "119387             August                        35   \n",
       "119388             August                        35   \n",
       "119389             August                        35   \n",
       "\n",
       "        arrival_date_day_of_month  stays_in_weekend_nights  \\\n",
       "119385                         30                        2   \n",
       "119386                         31                        2   \n",
       "119387                         31                        2   \n",
       "119388                         31                        2   \n",
       "119389                         29                        2   \n",
       "\n",
       "        stays_in_week_nights  adults  ...  customer_type     adr  \\\n",
       "119385                     5       2  ...      Transient   96.14   \n",
       "119386                     5       3  ...      Transient  225.43   \n",
       "119387                     5       2  ...      Transient  157.71   \n",
       "119388                     5       2  ...      Transient  104.40   \n",
       "119389                     7       2  ...      Transient  151.20   \n",
       "\n",
       "       required_car_parking_spaces total_of_special_requests  \\\n",
       "119385                           0                         0   \n",
       "119386                           0                         2   \n",
       "119387                           0                         4   \n",
       "119388                           0                         0   \n",
       "119389                           0                         2   \n",
       "\n",
       "       reservation_status reservation_status_date                name  \\\n",
       "119385          Check-Out              2017-09-06     Claudia Johnson   \n",
       "119386          Check-Out              2017-09-07      Wesley Aguilar   \n",
       "119387          Check-Out              2017-09-07        Mary Morales   \n",
       "119388          Check-Out              2017-09-07  Caroline Conley MD   \n",
       "119389          Check-Out              2017-09-07      Ariana Michael   \n",
       "\n",
       "                           email  phone-number       credit_card  \n",
       "119385       Claudia.J@yahoo.com  403-092-5582  ************8647  \n",
       "119386      WAguilar@xfinity.com  238-763-0612  ************4333  \n",
       "119387  Mary_Morales@hotmail.com  395-518-4100  ************1821  \n",
       "119388   MD_Caroline@comcast.net  531-528-1017  ************7860  \n",
       "119389      Ariana_M@xfinity.com  422-804-6403  ************4482  \n",
       "\n",
       "[5 rows x 36 columns]"
      ]
     },
     "execution_count": 5,
     "metadata": {},
     "output_type": "execute_result"
    }
   ],
   "source": [
    "df.tail()"
   ]
  },
  {
   "cell_type": "markdown",
   "id": "b50cfe4f-c7b2-4184-be86-bfeeeda89c3e",
   "metadata": {},
   "source": [
    "## Basic Info & Summary"
   ]
  },
  {
   "cell_type": "code",
   "execution_count": 6,
   "id": "e293e51e-5e52-4571-bfec-88913bab62bb",
   "metadata": {},
   "outputs": [
    {
     "name": "stdout",
     "output_type": "stream",
     "text": [
      "Shape of the dataset (rows, columns): (119390, 36)\n"
     ]
    }
   ],
   "source": [
    "# Shape of the dataset\n",
    "print(\"Shape of the dataset (rows, columns):\", df.shape)"
   ]
  },
  {
   "cell_type": "code",
   "execution_count": 7,
   "id": "86ca5446-20b5-4628-b1cf-6ff7b060641e",
   "metadata": {},
   "outputs": [
    {
     "name": "stdout",
     "output_type": "stream",
     "text": [
      "\n",
      "Data Info:\n",
      "<class 'pandas.core.frame.DataFrame'>\n",
      "RangeIndex: 119390 entries, 0 to 119389\n",
      "Data columns (total 36 columns):\n",
      " #   Column                          Non-Null Count   Dtype  \n",
      "---  ------                          --------------   -----  \n",
      " 0   hotel                           119390 non-null  object \n",
      " 1   is_canceled                     119390 non-null  int64  \n",
      " 2   lead_time                       119390 non-null  int64  \n",
      " 3   arrival_date_year               119390 non-null  int64  \n",
      " 4   arrival_date_month              119390 non-null  object \n",
      " 5   arrival_date_week_number        119390 non-null  int64  \n",
      " 6   arrival_date_day_of_month       119390 non-null  int64  \n",
      " 7   stays_in_weekend_nights         119390 non-null  int64  \n",
      " 8   stays_in_week_nights            119390 non-null  int64  \n",
      " 9   adults                          119390 non-null  int64  \n",
      " 10  children                        119386 non-null  float64\n",
      " 11  babies                          119390 non-null  int64  \n",
      " 12  meal                            119390 non-null  object \n",
      " 13  country                         118902 non-null  object \n",
      " 14  market_segment                  119390 non-null  object \n",
      " 15  distribution_channel            119390 non-null  object \n",
      " 16  is_repeated_guest               119390 non-null  int64  \n",
      " 17  previous_cancellations          119390 non-null  int64  \n",
      " 18  previous_bookings_not_canceled  119390 non-null  int64  \n",
      " 19  reserved_room_type              119390 non-null  object \n",
      " 20  assigned_room_type              119390 non-null  object \n",
      " 21  booking_changes                 119390 non-null  int64  \n",
      " 22  deposit_type                    119390 non-null  object \n",
      " 23  agent                           103050 non-null  float64\n",
      " 24  company                         6797 non-null    float64\n",
      " 25  days_in_waiting_list            119390 non-null  int64  \n",
      " 26  customer_type                   119390 non-null  object \n",
      " 27  adr                             119390 non-null  float64\n",
      " 28  required_car_parking_spaces     119390 non-null  int64  \n",
      " 29  total_of_special_requests       119390 non-null  int64  \n",
      " 30  reservation_status              119390 non-null  object \n",
      " 31  reservation_status_date         119390 non-null  object \n",
      " 32  name                            119390 non-null  object \n",
      " 33  email                           119390 non-null  object \n",
      " 34  phone-number                    119390 non-null  object \n",
      " 35  credit_card                     119390 non-null  object \n",
      "dtypes: float64(4), int64(16), object(16)\n",
      "memory usage: 32.8+ MB\n"
     ]
    }
   ],
   "source": [
    "# Column-wise data types and non-null values\n",
    "print(\"\\nData Info:\")\n",
    "df.info()"
   ]
  },
  {
   "cell_type": "code",
   "execution_count": 8,
   "id": "9f8eeeb9-e27b-4446-8618-659873186548",
   "metadata": {},
   "outputs": [
    {
     "name": "stdout",
     "output_type": "stream",
     "text": [
      "\n",
      "Statistical Summary:\n"
     ]
    },
    {
     "data": {
      "text/html": [
       "<div>\n",
       "<style scoped>\n",
       "    .dataframe tbody tr th:only-of-type {\n",
       "        vertical-align: middle;\n",
       "    }\n",
       "\n",
       "    .dataframe tbody tr th {\n",
       "        vertical-align: top;\n",
       "    }\n",
       "\n",
       "    .dataframe thead th {\n",
       "        text-align: right;\n",
       "    }\n",
       "</style>\n",
       "<table border=\"1\" class=\"dataframe\">\n",
       "  <thead>\n",
       "    <tr style=\"text-align: right;\">\n",
       "      <th></th>\n",
       "      <th>is_canceled</th>\n",
       "      <th>lead_time</th>\n",
       "      <th>arrival_date_year</th>\n",
       "      <th>arrival_date_week_number</th>\n",
       "      <th>arrival_date_day_of_month</th>\n",
       "      <th>stays_in_weekend_nights</th>\n",
       "      <th>stays_in_week_nights</th>\n",
       "      <th>adults</th>\n",
       "      <th>children</th>\n",
       "      <th>babies</th>\n",
       "      <th>is_repeated_guest</th>\n",
       "      <th>previous_cancellations</th>\n",
       "      <th>previous_bookings_not_canceled</th>\n",
       "      <th>booking_changes</th>\n",
       "      <th>agent</th>\n",
       "      <th>company</th>\n",
       "      <th>days_in_waiting_list</th>\n",
       "      <th>adr</th>\n",
       "      <th>required_car_parking_spaces</th>\n",
       "      <th>total_of_special_requests</th>\n",
       "    </tr>\n",
       "  </thead>\n",
       "  <tbody>\n",
       "    <tr>\n",
       "      <th>count</th>\n",
       "      <td>119390.000000</td>\n",
       "      <td>119390.000000</td>\n",
       "      <td>119390.000000</td>\n",
       "      <td>119390.000000</td>\n",
       "      <td>119390.000000</td>\n",
       "      <td>119390.000000</td>\n",
       "      <td>119390.000000</td>\n",
       "      <td>119390.000000</td>\n",
       "      <td>119386.000000</td>\n",
       "      <td>119390.000000</td>\n",
       "      <td>119390.000000</td>\n",
       "      <td>119390.000000</td>\n",
       "      <td>119390.000000</td>\n",
       "      <td>119390.000000</td>\n",
       "      <td>103050.000000</td>\n",
       "      <td>6797.000000</td>\n",
       "      <td>119390.000000</td>\n",
       "      <td>119390.000000</td>\n",
       "      <td>119390.000000</td>\n",
       "      <td>119390.000000</td>\n",
       "    </tr>\n",
       "    <tr>\n",
       "      <th>mean</th>\n",
       "      <td>0.370416</td>\n",
       "      <td>104.011416</td>\n",
       "      <td>2016.156554</td>\n",
       "      <td>27.165173</td>\n",
       "      <td>15.798241</td>\n",
       "      <td>0.927599</td>\n",
       "      <td>2.500302</td>\n",
       "      <td>1.856403</td>\n",
       "      <td>0.103890</td>\n",
       "      <td>0.007949</td>\n",
       "      <td>0.031912</td>\n",
       "      <td>0.087118</td>\n",
       "      <td>0.137097</td>\n",
       "      <td>0.221124</td>\n",
       "      <td>86.693382</td>\n",
       "      <td>189.266735</td>\n",
       "      <td>2.321149</td>\n",
       "      <td>101.831122</td>\n",
       "      <td>0.062518</td>\n",
       "      <td>0.571363</td>\n",
       "    </tr>\n",
       "    <tr>\n",
       "      <th>std</th>\n",
       "      <td>0.482918</td>\n",
       "      <td>106.863097</td>\n",
       "      <td>0.707476</td>\n",
       "      <td>13.605138</td>\n",
       "      <td>8.780829</td>\n",
       "      <td>0.998613</td>\n",
       "      <td>1.908286</td>\n",
       "      <td>0.579261</td>\n",
       "      <td>0.398561</td>\n",
       "      <td>0.097436</td>\n",
       "      <td>0.175767</td>\n",
       "      <td>0.844336</td>\n",
       "      <td>1.497437</td>\n",
       "      <td>0.652306</td>\n",
       "      <td>110.774548</td>\n",
       "      <td>131.655015</td>\n",
       "      <td>17.594721</td>\n",
       "      <td>50.535790</td>\n",
       "      <td>0.245291</td>\n",
       "      <td>0.792798</td>\n",
       "    </tr>\n",
       "    <tr>\n",
       "      <th>min</th>\n",
       "      <td>0.000000</td>\n",
       "      <td>0.000000</td>\n",
       "      <td>2015.000000</td>\n",
       "      <td>1.000000</td>\n",
       "      <td>1.000000</td>\n",
       "      <td>0.000000</td>\n",
       "      <td>0.000000</td>\n",
       "      <td>0.000000</td>\n",
       "      <td>0.000000</td>\n",
       "      <td>0.000000</td>\n",
       "      <td>0.000000</td>\n",
       "      <td>0.000000</td>\n",
       "      <td>0.000000</td>\n",
       "      <td>0.000000</td>\n",
       "      <td>1.000000</td>\n",
       "      <td>6.000000</td>\n",
       "      <td>0.000000</td>\n",
       "      <td>-6.380000</td>\n",
       "      <td>0.000000</td>\n",
       "      <td>0.000000</td>\n",
       "    </tr>\n",
       "    <tr>\n",
       "      <th>25%</th>\n",
       "      <td>0.000000</td>\n",
       "      <td>18.000000</td>\n",
       "      <td>2016.000000</td>\n",
       "      <td>16.000000</td>\n",
       "      <td>8.000000</td>\n",
       "      <td>0.000000</td>\n",
       "      <td>1.000000</td>\n",
       "      <td>2.000000</td>\n",
       "      <td>0.000000</td>\n",
       "      <td>0.000000</td>\n",
       "      <td>0.000000</td>\n",
       "      <td>0.000000</td>\n",
       "      <td>0.000000</td>\n",
       "      <td>0.000000</td>\n",
       "      <td>9.000000</td>\n",
       "      <td>62.000000</td>\n",
       "      <td>0.000000</td>\n",
       "      <td>69.290000</td>\n",
       "      <td>0.000000</td>\n",
       "      <td>0.000000</td>\n",
       "    </tr>\n",
       "    <tr>\n",
       "      <th>50%</th>\n",
       "      <td>0.000000</td>\n",
       "      <td>69.000000</td>\n",
       "      <td>2016.000000</td>\n",
       "      <td>28.000000</td>\n",
       "      <td>16.000000</td>\n",
       "      <td>1.000000</td>\n",
       "      <td>2.000000</td>\n",
       "      <td>2.000000</td>\n",
       "      <td>0.000000</td>\n",
       "      <td>0.000000</td>\n",
       "      <td>0.000000</td>\n",
       "      <td>0.000000</td>\n",
       "      <td>0.000000</td>\n",
       "      <td>0.000000</td>\n",
       "      <td>14.000000</td>\n",
       "      <td>179.000000</td>\n",
       "      <td>0.000000</td>\n",
       "      <td>94.575000</td>\n",
       "      <td>0.000000</td>\n",
       "      <td>0.000000</td>\n",
       "    </tr>\n",
       "    <tr>\n",
       "      <th>75%</th>\n",
       "      <td>1.000000</td>\n",
       "      <td>160.000000</td>\n",
       "      <td>2017.000000</td>\n",
       "      <td>38.000000</td>\n",
       "      <td>23.000000</td>\n",
       "      <td>2.000000</td>\n",
       "      <td>3.000000</td>\n",
       "      <td>2.000000</td>\n",
       "      <td>0.000000</td>\n",
       "      <td>0.000000</td>\n",
       "      <td>0.000000</td>\n",
       "      <td>0.000000</td>\n",
       "      <td>0.000000</td>\n",
       "      <td>0.000000</td>\n",
       "      <td>229.000000</td>\n",
       "      <td>270.000000</td>\n",
       "      <td>0.000000</td>\n",
       "      <td>126.000000</td>\n",
       "      <td>0.000000</td>\n",
       "      <td>1.000000</td>\n",
       "    </tr>\n",
       "    <tr>\n",
       "      <th>max</th>\n",
       "      <td>1.000000</td>\n",
       "      <td>737.000000</td>\n",
       "      <td>2017.000000</td>\n",
       "      <td>53.000000</td>\n",
       "      <td>31.000000</td>\n",
       "      <td>19.000000</td>\n",
       "      <td>50.000000</td>\n",
       "      <td>55.000000</td>\n",
       "      <td>10.000000</td>\n",
       "      <td>10.000000</td>\n",
       "      <td>1.000000</td>\n",
       "      <td>26.000000</td>\n",
       "      <td>72.000000</td>\n",
       "      <td>21.000000</td>\n",
       "      <td>535.000000</td>\n",
       "      <td>543.000000</td>\n",
       "      <td>391.000000</td>\n",
       "      <td>5400.000000</td>\n",
       "      <td>8.000000</td>\n",
       "      <td>5.000000</td>\n",
       "    </tr>\n",
       "  </tbody>\n",
       "</table>\n",
       "</div>"
      ],
      "text/plain": [
       "         is_canceled      lead_time  arrival_date_year  \\\n",
       "count  119390.000000  119390.000000      119390.000000   \n",
       "mean        0.370416     104.011416        2016.156554   \n",
       "std         0.482918     106.863097           0.707476   \n",
       "min         0.000000       0.000000        2015.000000   \n",
       "25%         0.000000      18.000000        2016.000000   \n",
       "50%         0.000000      69.000000        2016.000000   \n",
       "75%         1.000000     160.000000        2017.000000   \n",
       "max         1.000000     737.000000        2017.000000   \n",
       "\n",
       "       arrival_date_week_number  arrival_date_day_of_month  \\\n",
       "count             119390.000000              119390.000000   \n",
       "mean                  27.165173                  15.798241   \n",
       "std                   13.605138                   8.780829   \n",
       "min                    1.000000                   1.000000   \n",
       "25%                   16.000000                   8.000000   \n",
       "50%                   28.000000                  16.000000   \n",
       "75%                   38.000000                  23.000000   \n",
       "max                   53.000000                  31.000000   \n",
       "\n",
       "       stays_in_weekend_nights  stays_in_week_nights         adults  \\\n",
       "count            119390.000000         119390.000000  119390.000000   \n",
       "mean                  0.927599              2.500302       1.856403   \n",
       "std                   0.998613              1.908286       0.579261   \n",
       "min                   0.000000              0.000000       0.000000   \n",
       "25%                   0.000000              1.000000       2.000000   \n",
       "50%                   1.000000              2.000000       2.000000   \n",
       "75%                   2.000000              3.000000       2.000000   \n",
       "max                  19.000000             50.000000      55.000000   \n",
       "\n",
       "            children         babies  is_repeated_guest  \\\n",
       "count  119386.000000  119390.000000      119390.000000   \n",
       "mean        0.103890       0.007949           0.031912   \n",
       "std         0.398561       0.097436           0.175767   \n",
       "min         0.000000       0.000000           0.000000   \n",
       "25%         0.000000       0.000000           0.000000   \n",
       "50%         0.000000       0.000000           0.000000   \n",
       "75%         0.000000       0.000000           0.000000   \n",
       "max        10.000000      10.000000           1.000000   \n",
       "\n",
       "       previous_cancellations  previous_bookings_not_canceled  \\\n",
       "count           119390.000000                   119390.000000   \n",
       "mean                 0.087118                        0.137097   \n",
       "std                  0.844336                        1.497437   \n",
       "min                  0.000000                        0.000000   \n",
       "25%                  0.000000                        0.000000   \n",
       "50%                  0.000000                        0.000000   \n",
       "75%                  0.000000                        0.000000   \n",
       "max                 26.000000                       72.000000   \n",
       "\n",
       "       booking_changes          agent      company  days_in_waiting_list  \\\n",
       "count    119390.000000  103050.000000  6797.000000         119390.000000   \n",
       "mean          0.221124      86.693382   189.266735              2.321149   \n",
       "std           0.652306     110.774548   131.655015             17.594721   \n",
       "min           0.000000       1.000000     6.000000              0.000000   \n",
       "25%           0.000000       9.000000    62.000000              0.000000   \n",
       "50%           0.000000      14.000000   179.000000              0.000000   \n",
       "75%           0.000000     229.000000   270.000000              0.000000   \n",
       "max          21.000000     535.000000   543.000000            391.000000   \n",
       "\n",
       "                 adr  required_car_parking_spaces  total_of_special_requests  \n",
       "count  119390.000000                119390.000000              119390.000000  \n",
       "mean      101.831122                     0.062518                   0.571363  \n",
       "std        50.535790                     0.245291                   0.792798  \n",
       "min        -6.380000                     0.000000                   0.000000  \n",
       "25%        69.290000                     0.000000                   0.000000  \n",
       "50%        94.575000                     0.000000                   0.000000  \n",
       "75%       126.000000                     0.000000                   1.000000  \n",
       "max      5400.000000                     8.000000                   5.000000  "
      ]
     },
     "execution_count": 8,
     "metadata": {},
     "output_type": "execute_result"
    }
   ],
   "source": [
    "# Summary statistics for numeric columns\n",
    "print(\"\\nStatistical Summary:\")\n",
    "df.describe()"
   ]
  },
  {
   "cell_type": "code",
   "execution_count": 9,
   "id": "f6dc222e-bdab-4eaf-86ef-19d35ce45873",
   "metadata": {},
   "outputs": [
    {
     "name": "stdout",
     "output_type": "stream",
     "text": [
      "\n",
      "Column Names:\n",
      "['hotel', 'is_canceled', 'lead_time', 'arrival_date_year', 'arrival_date_month', 'arrival_date_week_number', 'arrival_date_day_of_month', 'stays_in_weekend_nights', 'stays_in_week_nights', 'adults', 'children', 'babies', 'meal', 'country', 'market_segment', 'distribution_channel', 'is_repeated_guest', 'previous_cancellations', 'previous_bookings_not_canceled', 'reserved_room_type', 'assigned_room_type', 'booking_changes', 'deposit_type', 'agent', 'company', 'days_in_waiting_list', 'customer_type', 'adr', 'required_car_parking_spaces', 'total_of_special_requests', 'reservation_status', 'reservation_status_date', 'name', 'email', 'phone-number', 'credit_card']\n"
     ]
    }
   ],
   "source": [
    "print(\"\\nColumn Names:\")\n",
    "print(df.columns.tolist()) "
   ]
  },
  {
   "cell_type": "markdown",
   "id": "c4f5699c-49c6-47c3-b1af-4b83fdfdfe4f",
   "metadata": {},
   "source": [
    "## Preprocessing the data"
   ]
  },
  {
   "cell_type": "markdown",
   "id": "788b186e-9df9-4895-952d-5be22ad49491",
   "metadata": {},
   "source": [
    "\n",
    "Let us find out whether our dataset consists of duplicate values"
   ]
  },
  {
   "cell_type": "code",
   "execution_count": 10,
   "id": "260ce386-4c85-4b62-87b1-c7744bbcc144",
   "metadata": {},
   "outputs": [
    {
     "name": "stdout",
     "output_type": "stream",
     "text": [
      "Total Number of duplicate values :  0\n",
      "False    119390\n",
      "Name: count, dtype: int64\n"
     ]
    }
   ],
   "source": [
    "\n",
    "# Dataset Duplicate Value Count\n",
    "print('Total Number of duplicate values : ',df.duplicated().sum())\n",
    "print(df.duplicated().value_counts())"
   ]
  },
  {
   "cell_type": "markdown",
   "id": "7da7b885-222f-4cb0-a0e4-d2076622ccc7",
   "metadata": {},
   "source": [
    "##### Dropping `name`,`email`,`phone-number`,`credit_card` columns ensures data privacy and focuses the dataset on features relevant for understanding hotel booking behavior."
   ]
  },
  {
   "cell_type": "code",
   "execution_count": 11,
   "id": "c408b79f-b191-468b-a77b-72fd6f997fe1",
   "metadata": {},
   "outputs": [],
   "source": [
    "df=df.drop(columns=['name','email','phone-number','credit_card'])"
   ]
  },
  {
   "cell_type": "code",
   "execution_count": 12,
   "id": "06acb86d-8395-4791-9341-c9ad84e0f9d8",
   "metadata": {},
   "outputs": [
    {
     "name": "stdout",
     "output_type": "stream",
     "text": [
      "Total Number of duplicate values :  31994\n",
      "False    87396\n",
      "True     31994\n",
      "Name: count, dtype: int64\n"
     ]
    }
   ],
   "source": [
    "print('Total Number of duplicate values : ',df.duplicated().sum())\n",
    "print(df.duplicated().value_counts())"
   ]
  },
  {
   "cell_type": "code",
   "execution_count": 13,
   "id": "9923b120-a540-4804-a94e-972e921c30e4",
   "metadata": {},
   "outputs": [],
   "source": [
    "df.drop_duplicates(inplace=True)"
   ]
  },
  {
   "cell_type": "code",
   "execution_count": 14,
   "id": "605b8fd5-271a-4d14-93aa-9020baf0eec3",
   "metadata": {},
   "outputs": [
    {
     "name": "stdout",
     "output_type": "stream",
     "text": [
      "Total Number of null values :  hotel                                 0\n",
      "is_canceled                           0\n",
      "lead_time                             0\n",
      "arrival_date_year                     0\n",
      "arrival_date_month                    0\n",
      "arrival_date_week_number              0\n",
      "arrival_date_day_of_month             0\n",
      "stays_in_weekend_nights               0\n",
      "stays_in_week_nights                  0\n",
      "adults                                0\n",
      "children                              4\n",
      "babies                                0\n",
      "meal                                  0\n",
      "country                             452\n",
      "market_segment                        0\n",
      "distribution_channel                  0\n",
      "is_repeated_guest                     0\n",
      "previous_cancellations                0\n",
      "previous_bookings_not_canceled        0\n",
      "reserved_room_type                    0\n",
      "assigned_room_type                    0\n",
      "booking_changes                       0\n",
      "deposit_type                          0\n",
      "agent                             12193\n",
      "company                           82137\n",
      "days_in_waiting_list                  0\n",
      "customer_type                         0\n",
      "adr                                   0\n",
      "required_car_parking_spaces           0\n",
      "total_of_special_requests             0\n",
      "reservation_status                    0\n",
      "reservation_status_date               0\n",
      "dtype: int64\n"
     ]
    }
   ],
   "source": [
    "# Missing Values/Null Values Count\n",
    "print(\"Total Number of null values : \",df.isnull().sum())"
   ]
  },
  {
   "cell_type": "code",
   "execution_count": 15,
   "id": "76c759f3-8ae6-4401-bd4a-13ab1e684945",
   "metadata": {},
   "outputs": [
    {
     "data": {
      "text/plain": [
       "company                           82137\n",
       "agent                             12193\n",
       "country                             452\n",
       "children                              4\n",
       "arrival_date_month                    0\n",
       "arrival_date_week_number              0\n",
       "hotel                                 0\n",
       "is_canceled                           0\n",
       "stays_in_weekend_nights               0\n",
       "arrival_date_day_of_month             0\n",
       "adults                                0\n",
       "stays_in_week_nights                  0\n",
       "babies                                0\n",
       "meal                                  0\n",
       "lead_time                             0\n",
       "arrival_date_year                     0\n",
       "distribution_channel                  0\n",
       "market_segment                        0\n",
       "previous_bookings_not_canceled        0\n",
       "is_repeated_guest                     0\n",
       "reserved_room_type                    0\n",
       "assigned_room_type                    0\n",
       "booking_changes                       0\n",
       "previous_cancellations                0\n",
       "deposit_type                          0\n",
       "days_in_waiting_list                  0\n",
       "customer_type                         0\n",
       "adr                                   0\n",
       "required_car_parking_spaces           0\n",
       "total_of_special_requests             0\n",
       "reservation_status                    0\n",
       "reservation_status_date               0\n",
       "dtype: int64"
      ]
     },
     "execution_count": 15,
     "metadata": {},
     "output_type": "execute_result"
    }
   ],
   "source": [
    "df.isnull().sum().sort_values(ascending = False)"
   ]
  },
  {
   "cell_type": "code",
   "execution_count": 16,
   "id": "654c9953-5573-4fc0-a4c8-f40d5ed56f04",
   "metadata": {},
   "outputs": [
    {
     "name": "stdout",
     "output_type": "stream",
     "text": [
      "<class 'pandas.core.frame.DataFrame'>\n",
      "Index: 87396 entries, 0 to 119389\n",
      "Data columns (total 32 columns):\n",
      " #   Column                          Non-Null Count  Dtype  \n",
      "---  ------                          --------------  -----  \n",
      " 0   hotel                           87396 non-null  object \n",
      " 1   is_canceled                     87396 non-null  int64  \n",
      " 2   lead_time                       87396 non-null  int64  \n",
      " 3   arrival_date_year               87396 non-null  int64  \n",
      " 4   arrival_date_month              87396 non-null  object \n",
      " 5   arrival_date_week_number        87396 non-null  int64  \n",
      " 6   arrival_date_day_of_month       87396 non-null  int64  \n",
      " 7   stays_in_weekend_nights         87396 non-null  int64  \n",
      " 8   stays_in_week_nights            87396 non-null  int64  \n",
      " 9   adults                          87396 non-null  int64  \n",
      " 10  children                        87392 non-null  float64\n",
      " 11  babies                          87396 non-null  int64  \n",
      " 12  meal                            87396 non-null  object \n",
      " 13  country                         86944 non-null  object \n",
      " 14  market_segment                  87396 non-null  object \n",
      " 15  distribution_channel            87396 non-null  object \n",
      " 16  is_repeated_guest               87396 non-null  int64  \n",
      " 17  previous_cancellations          87396 non-null  int64  \n",
      " 18  previous_bookings_not_canceled  87396 non-null  int64  \n",
      " 19  reserved_room_type              87396 non-null  object \n",
      " 20  assigned_room_type              87396 non-null  object \n",
      " 21  booking_changes                 87396 non-null  int64  \n",
      " 22  deposit_type                    87396 non-null  object \n",
      " 23  agent                           75203 non-null  float64\n",
      " 24  company                         5259 non-null   float64\n",
      " 25  days_in_waiting_list            87396 non-null  int64  \n",
      " 26  customer_type                   87396 non-null  object \n",
      " 27  adr                             87396 non-null  float64\n",
      " 28  required_car_parking_spaces     87396 non-null  int64  \n",
      " 29  total_of_special_requests       87396 non-null  int64  \n",
      " 30  reservation_status              87396 non-null  object \n",
      " 31  reservation_status_date         87396 non-null  object \n",
      "dtypes: float64(4), int64(16), object(12)\n",
      "memory usage: 22.0+ MB\n"
     ]
    }
   ],
   "source": [
    "df.info()"
   ]
  },
  {
   "cell_type": "markdown",
   "id": "9288373b-151e-4cd6-9a19-cba4654cdee7",
   "metadata": {},
   "source": [
    "Now let's findout the unique values in each column"
   ]
  },
  {
   "cell_type": "markdown",
   "id": "28c00e5b-b946-4655-b103-1cf3ca8957f8",
   "metadata": {},
   "source": [
    "## 1.hotel\n",
    "The `hotel`column indicates the type of hotel booked (e.g., resort hotel or city hotel)."
   ]
  },
  {
   "cell_type": "code",
   "execution_count": 17,
   "id": "82a9fcad-99b3-4f4c-b7aa-2afff2b330a0",
   "metadata": {},
   "outputs": [
    {
     "data": {
      "text/plain": [
       "0         Resort Hotel\n",
       "1         Resort Hotel\n",
       "2         Resort Hotel\n",
       "3         Resort Hotel\n",
       "4         Resort Hotel\n",
       "              ...     \n",
       "119385      City Hotel\n",
       "119386      City Hotel\n",
       "119387      City Hotel\n",
       "119388      City Hotel\n",
       "119389      City Hotel\n",
       "Name: hotel, Length: 87396, dtype: object"
      ]
     },
     "execution_count": 17,
     "metadata": {},
     "output_type": "execute_result"
    }
   ],
   "source": [
    "# Exploring match_id\n",
    "df['hotel']"
   ]
  },
  {
   "cell_type": "code",
   "execution_count": 18,
   "id": "a61abd90-0545-4cf2-bc14-11dd8a2080d2",
   "metadata": {},
   "outputs": [
    {
     "data": {
      "text/plain": [
       "array(['Resort Hotel', 'City Hotel'], dtype=object)"
      ]
     },
     "execution_count": 18,
     "metadata": {},
     "output_type": "execute_result"
    }
   ],
   "source": [
    "#Checking unique values\n",
    "df['hotel'].unique()"
   ]
  },
  {
   "cell_type": "code",
   "execution_count": 19,
   "id": "7c16eee4-ed1e-4254-b8a8-61420c810f80",
   "metadata": {},
   "outputs": [
    {
     "data": {
      "text/plain": [
       "2"
      ]
     },
     "execution_count": 19,
     "metadata": {},
     "output_type": "execute_result"
    }
   ],
   "source": [
    "#Checking number of unique values\n",
    "df['hotel'].nunique()"
   ]
  },
  {
   "cell_type": "markdown",
   "id": "1f32275b-d78f-4c4e-91d6-af66dcea4ca3",
   "metadata": {},
   "source": [
    "## 2.is_canceled\n",
    "The `is_canceled` column indicates if the booking was canceled or not."
   ]
  },
  {
   "cell_type": "code",
   "execution_count": 20,
   "id": "4fbf3b0d-dd36-4072-975b-0e370dd43ee7",
   "metadata": {},
   "outputs": [
    {
     "data": {
      "text/plain": [
       "0         0\n",
       "1         0\n",
       "2         0\n",
       "3         0\n",
       "4         0\n",
       "         ..\n",
       "119385    0\n",
       "119386    0\n",
       "119387    0\n",
       "119388    0\n",
       "119389    0\n",
       "Name: is_canceled, Length: 87396, dtype: int64"
      ]
     },
     "execution_count": 20,
     "metadata": {},
     "output_type": "execute_result"
    }
   ],
   "source": [
    "df['is_canceled']"
   ]
  },
  {
   "cell_type": "code",
   "execution_count": 21,
   "id": "1c20b51d-3c63-491e-81b7-ac5b99a5f741",
   "metadata": {},
   "outputs": [
    {
     "data": {
      "text/plain": [
       "array([0, 1])"
      ]
     },
     "execution_count": 21,
     "metadata": {},
     "output_type": "execute_result"
    }
   ],
   "source": [
    "df['is_canceled'].unique()"
   ]
  },
  {
   "cell_type": "code",
   "execution_count": 22,
   "id": "f170bd22-d6a0-42b0-aaee-9d0215392e1d",
   "metadata": {},
   "outputs": [
    {
     "data": {
      "text/plain": [
       "2"
      ]
     },
     "execution_count": 22,
     "metadata": {},
     "output_type": "execute_result"
    }
   ],
   "source": [
    "df['is_canceled'].nunique()"
   ]
  },
  {
   "cell_type": "markdown",
   "id": "2e7265a8-e7e4-4a9b-a403-2b68a9071106",
   "metadata": {},
   "source": [
    "## 3.lead_time\n",
    "The `lead_time` column indicates number of days between booking date and arrival date."
   ]
  },
  {
   "cell_type": "code",
   "execution_count": 23,
   "id": "be074532-36cc-4b68-9529-3df4143dc30c",
   "metadata": {},
   "outputs": [
    {
     "data": {
      "text/plain": [
       "0         342\n",
       "1         737\n",
       "2           7\n",
       "3          13\n",
       "4          14\n",
       "         ... \n",
       "119385     23\n",
       "119386    102\n",
       "119387     34\n",
       "119388    109\n",
       "119389    205\n",
       "Name: lead_time, Length: 87396, dtype: int64"
      ]
     },
     "execution_count": 23,
     "metadata": {},
     "output_type": "execute_result"
    }
   ],
   "source": [
    "df['lead_time']"
   ]
  },
  {
   "cell_type": "code",
   "execution_count": 24,
   "id": "e19e1edf-78fb-4ab3-9139-0ed177d73479",
   "metadata": {},
   "outputs": [
    {
     "data": {
      "text/plain": [
       "array([342, 737,   7,  13,  14,   0,   9,  85,  75,  23,  35,  68,  18,\n",
       "        37,  12,  72, 127,  78,  48,  60,  77,  99, 118,  95,  96,  69,\n",
       "        45,  40,  15,  36,  43,  70,  16, 107,  47, 113,  90,  50,  93,\n",
       "        76,   3,   1,  10,   5,  17,  51,  71,  63,  62, 101,   2,  81,\n",
       "       368, 364, 324,  79,  21, 109, 102,   4,  98,  92,  26,  73, 115,\n",
       "        86,  52,  29,  30,  33,  32,   8, 100,  44,  80,  97,  64,  39,\n",
       "        34,  27,  82,  94, 110, 111,  84,  66, 104,  28, 258, 112,  65,\n",
       "        67,  55,  88,  54, 292,  83, 105, 280, 394,  24, 103, 366, 249,\n",
       "        22,  91,  11, 108, 106,  31,  87,  41, 304, 117,  59,  53,  58,\n",
       "       116,  42, 321,  38,  56,  49, 317,   6,  57,  19,  25, 315, 123,\n",
       "        46,  89,  61, 312, 299, 130,  74, 298, 119,  20, 286, 136, 129,\n",
       "       124, 327, 131, 460, 140, 114, 139, 122, 137, 126, 120, 128, 135,\n",
       "       150, 143, 151, 132, 125, 157, 147, 138, 156, 164, 346, 159, 160,\n",
       "       161, 333, 381, 149, 154, 297, 163, 314, 155, 323, 340, 356, 142,\n",
       "       328, 144, 336, 248, 302, 175, 344, 382, 146, 170, 166, 338, 167,\n",
       "       310, 148, 165, 172, 171, 145, 121, 178, 305, 173, 152, 354, 347,\n",
       "       158, 185, 349, 183, 352, 177, 200, 192, 361, 207, 174, 330, 134,\n",
       "       350, 334, 283, 153, 197, 133, 241, 193, 235, 194, 261, 260, 216,\n",
       "       169, 209, 238, 215, 141, 189, 187, 223, 284, 214, 202, 211, 168,\n",
       "       230, 203, 188, 232, 709, 219, 162, 196, 190, 259, 228, 176, 250,\n",
       "       201, 186, 199, 180, 206, 205, 224, 222, 182, 210, 275, 212, 229,\n",
       "       218, 208, 191, 181, 179, 246, 255, 226, 288, 253, 252, 262, 236,\n",
       "       256, 234, 254, 468, 213, 237, 198, 195, 239, 263, 265, 274, 217,\n",
       "       220, 307, 221, 233, 257, 227, 276, 225, 264, 311, 277, 204, 290,\n",
       "       266, 270, 294, 319, 282, 251, 322, 291, 269, 240, 271, 184, 231,\n",
       "       268, 247, 273, 300, 301, 267, 244, 306, 293, 309, 272, 242, 295,\n",
       "       285, 243, 308, 398, 303, 245, 424, 279, 331, 281, 339, 434, 357,\n",
       "       325, 329, 278, 332, 343, 345, 360, 348, 367, 353, 373, 374, 406,\n",
       "       400, 326, 379, 399, 316, 341, 320, 385, 355, 363, 358, 296, 422,\n",
       "       390, 335, 370, 376, 375, 397, 289, 542, 403, 383, 384, 359, 393,\n",
       "       337, 362, 365, 435, 386, 378, 313, 351, 287, 471, 462, 411, 450,\n",
       "       318, 372, 371, 454, 532, 445, 389, 388, 407, 443, 437, 451, 391,\n",
       "       405, 412, 419, 420, 426, 433, 440, 429, 418, 447, 461, 605, 457,\n",
       "       475, 464, 482, 626, 489, 496, 503, 510, 517, 524, 531, 538, 545,\n",
       "       552, 559, 566, 573, 580, 587, 594, 601, 608, 615, 622, 629, 396,\n",
       "       410, 395, 423, 408, 409, 448, 465, 387, 414, 476, 479, 467, 490,\n",
       "       493, 478, 504, 507, 458, 518, 521, 377, 444, 380, 463])"
      ]
     },
     "execution_count": 24,
     "metadata": {},
     "output_type": "execute_result"
    }
   ],
   "source": [
    "df['lead_time'].unique()"
   ]
  },
  {
   "cell_type": "code",
   "execution_count": 25,
   "id": "afc89a05-95b5-46ed-aa72-c72578ce56f2",
   "metadata": {},
   "outputs": [
    {
     "data": {
      "text/plain": [
       "479"
      ]
     },
     "execution_count": 25,
     "metadata": {},
     "output_type": "execute_result"
    }
   ],
   "source": [
    "df['lead_time'].nunique()"
   ]
  },
  {
   "cell_type": "markdown",
   "id": "5400d1c6-9498-4946-999f-35ee5bf966fa",
   "metadata": {},
   "source": [
    "## 4.arrival_date_year \n",
    "This `arrival_date_year` column indicates year of arrival date."
   ]
  },
  {
   "cell_type": "code",
   "execution_count": 26,
   "id": "c7016ab4-0ebd-4c60-85a0-994728ddf155",
   "metadata": {},
   "outputs": [
    {
     "data": {
      "text/plain": [
       "0         2015\n",
       "1         2015\n",
       "2         2015\n",
       "3         2015\n",
       "4         2015\n",
       "          ... \n",
       "119385    2017\n",
       "119386    2017\n",
       "119387    2017\n",
       "119388    2017\n",
       "119389    2017\n",
       "Name: arrival_date_year, Length: 87396, dtype: int64"
      ]
     },
     "execution_count": 26,
     "metadata": {},
     "output_type": "execute_result"
    }
   ],
   "source": [
    "df['arrival_date_year']"
   ]
  },
  {
   "cell_type": "code",
   "execution_count": 27,
   "id": "55948bb3-c2bc-4348-853a-47e3c3da993d",
   "metadata": {},
   "outputs": [
    {
     "data": {
      "text/plain": [
       "array([2015, 2016, 2017])"
      ]
     },
     "execution_count": 27,
     "metadata": {},
     "output_type": "execute_result"
    }
   ],
   "source": [
    "df['arrival_date_year'].unique()"
   ]
  },
  {
   "cell_type": "code",
   "execution_count": 28,
   "id": "d02bcd3c-7a79-4f53-986e-aab3bffaed6d",
   "metadata": {},
   "outputs": [
    {
     "data": {
      "text/plain": [
       "3"
      ]
     },
     "execution_count": 28,
     "metadata": {},
     "output_type": "execute_result"
    }
   ],
   "source": [
    "df['arrival_date_year'].nunique()"
   ]
  },
  {
   "cell_type": "markdown",
   "id": "507245ab-2a15-4cd6-9ca1-47e18d0fbd35",
   "metadata": {},
   "source": [
    "## 5.arrival_date_month\n",
    "The `arrival_date_month` column indicates month of arrival date."
   ]
  },
  {
   "cell_type": "code",
   "execution_count": 29,
   "id": "54b5c56a-ff28-4e17-8110-44fdfeade306",
   "metadata": {},
   "outputs": [
    {
     "data": {
      "text/plain": [
       "0           July\n",
       "1           July\n",
       "2           July\n",
       "3           July\n",
       "4           July\n",
       "           ...  \n",
       "119385    August\n",
       "119386    August\n",
       "119387    August\n",
       "119388    August\n",
       "119389    August\n",
       "Name: arrival_date_month, Length: 87396, dtype: object"
      ]
     },
     "execution_count": 29,
     "metadata": {},
     "output_type": "execute_result"
    }
   ],
   "source": [
    "df['arrival_date_month']"
   ]
  },
  {
   "cell_type": "code",
   "execution_count": 30,
   "id": "9ff9141d-d2d6-430e-b289-040ef8ea84b0",
   "metadata": {},
   "outputs": [
    {
     "data": {
      "text/plain": [
       "array(['July', 'August', 'September', 'October', 'November', 'December',\n",
       "       'January', 'February', 'March', 'April', 'May', 'June'],\n",
       "      dtype=object)"
      ]
     },
     "execution_count": 30,
     "metadata": {},
     "output_type": "execute_result"
    }
   ],
   "source": [
    "df['arrival_date_month'].unique()"
   ]
  },
  {
   "cell_type": "code",
   "execution_count": 31,
   "id": "621e8f18-42d5-40f9-bc7c-99713f554778",
   "metadata": {},
   "outputs": [
    {
     "data": {
      "text/plain": [
       "12"
      ]
     },
     "execution_count": 31,
     "metadata": {},
     "output_type": "execute_result"
    }
   ],
   "source": [
    "df['arrival_date_month'].nunique()"
   ]
  },
  {
   "cell_type": "markdown",
   "id": "10325f6e-5a26-4208-aeb0-0189f5f7e0d7",
   "metadata": {},
   "source": [
    "## 6.arrival_date_week_number\n",
    "The `arrival_date_week_number` indicates Week number of arrival date."
   ]
  },
  {
   "cell_type": "code",
   "execution_count": 32,
   "id": "7a0afb61-6119-4f64-a9dd-e69adb905c1e",
   "metadata": {},
   "outputs": [
    {
     "data": {
      "text/plain": [
       "0         27\n",
       "1         27\n",
       "2         27\n",
       "3         27\n",
       "4         27\n",
       "          ..\n",
       "119385    35\n",
       "119386    35\n",
       "119387    35\n",
       "119388    35\n",
       "119389    35\n",
       "Name: arrival_date_week_number, Length: 87396, dtype: int64"
      ]
     },
     "execution_count": 32,
     "metadata": {},
     "output_type": "execute_result"
    }
   ],
   "source": [
    "df['arrival_date_week_number']"
   ]
  },
  {
   "cell_type": "code",
   "execution_count": 33,
   "id": "bfd8f917-58ff-491d-8e71-63af933f27e4",
   "metadata": {},
   "outputs": [
    {
     "data": {
      "text/plain": [
       "array([27, 28, 29, 30, 31, 32, 33, 34, 35, 36, 37, 38, 39, 40, 41, 42, 43,\n",
       "       44, 45, 46, 47, 48, 49, 50, 51, 52, 53,  1,  2,  3,  4,  5,  6,  7,\n",
       "        8,  9, 10, 11, 12, 13, 14, 15, 16, 17, 18, 19, 20, 21, 22, 23, 24,\n",
       "       25, 26])"
      ]
     },
     "execution_count": 33,
     "metadata": {},
     "output_type": "execute_result"
    }
   ],
   "source": [
    "df['arrival_date_week_number'].unique()"
   ]
  },
  {
   "cell_type": "code",
   "execution_count": 34,
   "id": "619fdbfb-64bb-44a3-a6b9-804af976f090",
   "metadata": {},
   "outputs": [
    {
     "data": {
      "text/plain": [
       "53"
      ]
     },
     "execution_count": 34,
     "metadata": {},
     "output_type": "execute_result"
    }
   ],
   "source": [
    "df['arrival_date_week_number'].nunique()"
   ]
  },
  {
   "cell_type": "markdown",
   "id": "03111b7d-3776-469a-b535-3de14bc1bb45",
   "metadata": {},
   "source": [
    "## 7.arrival_date_day_of_month\n",
    "The `arrival_date_day_of_month` column indicates day of arrival date."
   ]
  },
  {
   "cell_type": "code",
   "execution_count": 35,
   "id": "b02530f0-9ea2-472b-ba3b-7e11cc2a6ab7",
   "metadata": {},
   "outputs": [
    {
     "data": {
      "text/plain": [
       "0          1\n",
       "1          1\n",
       "2          1\n",
       "3          1\n",
       "4          1\n",
       "          ..\n",
       "119385    30\n",
       "119386    31\n",
       "119387    31\n",
       "119388    31\n",
       "119389    29\n",
       "Name: arrival_date_day_of_month, Length: 87396, dtype: int64"
      ]
     },
     "execution_count": 35,
     "metadata": {},
     "output_type": "execute_result"
    }
   ],
   "source": [
    "df['arrival_date_day_of_month']"
   ]
  },
  {
   "cell_type": "code",
   "execution_count": 36,
   "id": "f68001ff-e029-4532-abb0-42cff91c9ccb",
   "metadata": {},
   "outputs": [
    {
     "data": {
      "text/plain": [
       "array([ 1,  2,  3,  4,  5,  6,  7,  8,  9, 10, 11, 12, 13, 14, 15, 16, 17,\n",
       "       18, 19, 20, 21, 22, 23, 24, 25, 26, 27, 28, 29, 30, 31])"
      ]
     },
     "execution_count": 36,
     "metadata": {},
     "output_type": "execute_result"
    }
   ],
   "source": [
    "df['arrival_date_day_of_month'].unique()"
   ]
  },
  {
   "cell_type": "code",
   "execution_count": 37,
   "id": "7421d808-c958-4c7f-bbca-57c532c82bf7",
   "metadata": {},
   "outputs": [
    {
     "data": {
      "text/plain": [
       "31"
      ]
     },
     "execution_count": 37,
     "metadata": {},
     "output_type": "execute_result"
    }
   ],
   "source": [
    "df['arrival_date_day_of_month'].nunique()"
   ]
  },
  {
   "cell_type": "markdown",
   "id": "3bcdfacf-a9f6-45d8-a648-e722f41c6010",
   "metadata": {},
   "source": [
    "## 8.stays_in_weekend_nights\n",
    "The `stays_in_weekend_nights` column indicates number of weekend nights booked."
   ]
  },
  {
   "cell_type": "code",
   "execution_count": 38,
   "id": "e1e89687-24dd-4ca2-94e6-8cf4b4861859",
   "metadata": {},
   "outputs": [
    {
     "data": {
      "text/plain": [
       "0         0\n",
       "1         0\n",
       "2         0\n",
       "3         0\n",
       "4         0\n",
       "         ..\n",
       "119385    2\n",
       "119386    2\n",
       "119387    2\n",
       "119388    2\n",
       "119389    2\n",
       "Name: stays_in_weekend_nights, Length: 87396, dtype: int64"
      ]
     },
     "execution_count": 38,
     "metadata": {},
     "output_type": "execute_result"
    }
   ],
   "source": [
    "df['stays_in_weekend_nights']"
   ]
  },
  {
   "cell_type": "code",
   "execution_count": 39,
   "id": "3ac49fa2-44c1-4b91-8270-f1d5a709372a",
   "metadata": {},
   "outputs": [
    {
     "data": {
      "text/plain": [
       "array([ 0,  1,  2,  4,  3,  6, 13,  8,  5,  7, 12,  9, 16, 18, 19, 10, 14])"
      ]
     },
     "execution_count": 39,
     "metadata": {},
     "output_type": "execute_result"
    }
   ],
   "source": [
    "df['stays_in_weekend_nights'].unique()"
   ]
  },
  {
   "cell_type": "code",
   "execution_count": 40,
   "id": "7ce87742-287c-43a5-a08c-ba8835d6a066",
   "metadata": {},
   "outputs": [
    {
     "data": {
      "text/plain": [
       "17"
      ]
     },
     "execution_count": 40,
     "metadata": {},
     "output_type": "execute_result"
    }
   ],
   "source": [
    "df['stays_in_weekend_nights'].nunique()"
   ]
  },
  {
   "cell_type": "markdown",
   "id": "e753f083-3b2c-48c6-a23a-597e8c1e8da0",
   "metadata": {},
   "source": [
    "## 9.stays_in_week_nights\n",
    "The `stays_in_week_nights` column indicates number of week nights booked."
   ]
  },
  {
   "cell_type": "code",
   "execution_count": 41,
   "id": "08b27b63-76e2-48bb-8db5-5a59dea0ebc0",
   "metadata": {},
   "outputs": [
    {
     "data": {
      "text/plain": [
       "0         0\n",
       "1         0\n",
       "2         1\n",
       "3         1\n",
       "4         2\n",
       "         ..\n",
       "119385    5\n",
       "119386    5\n",
       "119387    5\n",
       "119388    5\n",
       "119389    7\n",
       "Name: stays_in_week_nights, Length: 87396, dtype: int64"
      ]
     },
     "execution_count": 41,
     "metadata": {},
     "output_type": "execute_result"
    }
   ],
   "source": [
    "df['stays_in_week_nights']"
   ]
  },
  {
   "cell_type": "code",
   "execution_count": 42,
   "id": "8887b6bf-b1da-447f-9679-57495a6b40ee",
   "metadata": {},
   "outputs": [
    {
     "data": {
      "text/plain": [
       "array([ 0,  1,  2,  3,  4,  5, 10, 11,  8,  6,  7, 15,  9, 12, 33, 20, 14,\n",
       "       16, 21, 13, 30, 19, 24, 40, 22, 42, 50, 25, 17, 32, 26, 18, 34, 35,\n",
       "       41])"
      ]
     },
     "execution_count": 42,
     "metadata": {},
     "output_type": "execute_result"
    }
   ],
   "source": [
    "df['stays_in_week_nights'].unique()"
   ]
  },
  {
   "cell_type": "code",
   "execution_count": 43,
   "id": "380ad49b-57a2-4023-bb33-7c705cd6b78f",
   "metadata": {},
   "outputs": [
    {
     "data": {
      "text/plain": [
       "35"
      ]
     },
     "execution_count": 43,
     "metadata": {},
     "output_type": "execute_result"
    }
   ],
   "source": [
    "df['stays_in_week_nights'].nunique()"
   ]
  },
  {
   "cell_type": "markdown",
   "id": "cd41bd21-33e7-419d-a42e-3c815e68b6c4",
   "metadata": {},
   "source": [
    "## 10.adults\n",
    "The `adults` column indicates number of adults."
   ]
  },
  {
   "cell_type": "code",
   "execution_count": 44,
   "id": "5216208f-5934-47c7-b26b-8d9fb3019c87",
   "metadata": {},
   "outputs": [
    {
     "data": {
      "text/plain": [
       "0         2\n",
       "1         2\n",
       "2         1\n",
       "3         1\n",
       "4         2\n",
       "         ..\n",
       "119385    2\n",
       "119386    3\n",
       "119387    2\n",
       "119388    2\n",
       "119389    2\n",
       "Name: adults, Length: 87396, dtype: int64"
      ]
     },
     "execution_count": 44,
     "metadata": {},
     "output_type": "execute_result"
    }
   ],
   "source": [
    "df['adults']"
   ]
  },
  {
   "cell_type": "code",
   "execution_count": 45,
   "id": "102ae43a-0bba-4638-b268-d3dace8978fc",
   "metadata": {},
   "outputs": [
    {
     "data": {
      "text/plain": [
       "array([ 2,  1,  3,  4, 40, 26, 50, 27, 55,  0, 20,  6,  5, 10])"
      ]
     },
     "execution_count": 45,
     "metadata": {},
     "output_type": "execute_result"
    }
   ],
   "source": [
    "df['adults'].unique()"
   ]
  },
  {
   "cell_type": "markdown",
   "id": "3cb9333d-a99f-426c-a2a4-f2bee840c6df",
   "metadata": {},
   "source": [
    "### As adults required to book the room they cannot be zero so drop the  row adults with value 0 "
   ]
  },
  {
   "cell_type": "code",
   "execution_count": 46,
   "id": "a7fc0766-889b-43a5-89b0-7458525bd344",
   "metadata": {},
   "outputs": [],
   "source": [
    "df.drop(df[df['adults'] == 0].index, inplace = True)"
   ]
  },
  {
   "cell_type": "code",
   "execution_count": 47,
   "id": "6325493c-2552-4bab-9b0b-8508c8c5aa85",
   "metadata": {},
   "outputs": [
    {
     "data": {
      "text/plain": [
       "np.int64(0)"
      ]
     },
     "execution_count": 47,
     "metadata": {},
     "output_type": "execute_result"
    }
   ],
   "source": [
    "(df['adults'] == 0).sum()"
   ]
  },
  {
   "cell_type": "code",
   "execution_count": 48,
   "id": "de993730-5454-41e8-b8fc-cfcd6cd200f2",
   "metadata": {},
   "outputs": [
    {
     "data": {
      "text/plain": [
       "13"
      ]
     },
     "execution_count": 48,
     "metadata": {},
     "output_type": "execute_result"
    }
   ],
   "source": [
    "df['adults'].nunique()"
   ]
  },
  {
   "cell_type": "markdown",
   "id": "fabafc0c-7312-4be1-bbf5-65167c9c60fb",
   "metadata": {},
   "source": [
    "## 11.children\n",
    "The `children` column indicates number of children."
   ]
  },
  {
   "cell_type": "code",
   "execution_count": 49,
   "id": "c81936fb-bfa0-4cb3-8ae6-042bfb6a8618",
   "metadata": {},
   "outputs": [
    {
     "data": {
      "text/plain": [
       "0         0.0\n",
       "1         0.0\n",
       "2         0.0\n",
       "3         0.0\n",
       "4         0.0\n",
       "         ... \n",
       "119385    0.0\n",
       "119386    0.0\n",
       "119387    0.0\n",
       "119388    0.0\n",
       "119389    0.0\n",
       "Name: children, Length: 87011, dtype: float64"
      ]
     },
     "execution_count": 49,
     "metadata": {},
     "output_type": "execute_result"
    }
   ],
   "source": [
    "df['children']"
   ]
  },
  {
   "cell_type": "code",
   "execution_count": 50,
   "id": "77083252-3d6b-439a-93aa-5a8f840a2fd1",
   "metadata": {},
   "outputs": [
    {
     "data": {
      "text/plain": [
       "array([ 0.,  1.,  2., 10.,  3., nan])"
      ]
     },
     "execution_count": 50,
     "metadata": {},
     "output_type": "execute_result"
    }
   ],
   "source": [
    "df['children'].unique()"
   ]
  },
  {
   "cell_type": "code",
   "execution_count": 51,
   "id": "bec31788-35fd-4f19-9386-abd8afeb8e07",
   "metadata": {},
   "outputs": [
    {
     "data": {
      "text/plain": [
       "5"
      ]
     },
     "execution_count": 51,
     "metadata": {},
     "output_type": "execute_result"
    }
   ],
   "source": [
    "df['children'].nunique()"
   ]
  },
  {
   "cell_type": "code",
   "execution_count": 52,
   "id": "3941ac93-0c11-440e-9f9a-fe39b1cfb108",
   "metadata": {},
   "outputs": [
    {
     "name": "stdout",
     "output_type": "stream",
     "text": [
      "Outliers detected\n"
     ]
    }
   ],
   "source": [
    "Q1 = df['children'].quantile(0.25)\n",
    "Q3 = df['children'].quantile(0.75)\n",
    "\n",
    "# Interquartile Range\n",
    "IQR = Q3 - Q1\n",
    "\n",
    "# Calculate bounds\n",
    "lower_bound = Q1 - 1.5 * IQR\n",
    "upper_bound = Q3 + 1.5 * IQR\n",
    "\n",
    "# Check for outliers\n",
    "outliers = df[(df['children']< lower_bound) | (df['children'] > upper_bound)]\n",
    "\n",
    "if not outliers.empty:\n",
    "    print(\"Outliers detected\")\n",
    "else:\n",
    "    print(\"No outliers detected.\")"
   ]
  },
  {
   "cell_type": "markdown",
   "id": "84032fc4-ff1f-406d-ba1b-c2d8dfcf935e",
   "metadata": {},
   "source": [
    "### Replacing NULL values in children column with median(outliers detected)"
   ]
  },
  {
   "cell_type": "code",
   "execution_count": 53,
   "id": "ae594acc-2447-4061-bc8a-8f8318016c25",
   "metadata": {},
   "outputs": [],
   "source": [
    "median=df['children'].median()\n",
    "df['children'].fillna(median,inplace=True)"
   ]
  },
  {
   "cell_type": "code",
   "execution_count": 54,
   "id": "9e0372fd-1914-4e0e-a266-ccafade46bdd",
   "metadata": {},
   "outputs": [
    {
     "data": {
      "text/plain": [
       "array([ 0.,  1.,  2., 10.,  3.])"
      ]
     },
     "execution_count": 54,
     "metadata": {},
     "output_type": "execute_result"
    }
   ],
   "source": [
    "df['children'].unique()"
   ]
  },
  {
   "cell_type": "markdown",
   "id": "408cc670-a120-402d-9c58-9b7017d2cb19",
   "metadata": {},
   "source": [
    "## 12.babies\n",
    "The `babies` column indicates number of babies."
   ]
  },
  {
   "cell_type": "code",
   "execution_count": 55,
   "id": "94aa26f2-0cac-416c-a0ed-b5bfa1738f22",
   "metadata": {},
   "outputs": [
    {
     "data": {
      "text/plain": [
       "0         0\n",
       "1         0\n",
       "2         0\n",
       "3         0\n",
       "4         0\n",
       "         ..\n",
       "119385    0\n",
       "119386    0\n",
       "119387    0\n",
       "119388    0\n",
       "119389    0\n",
       "Name: babies, Length: 87011, dtype: int64"
      ]
     },
     "execution_count": 55,
     "metadata": {},
     "output_type": "execute_result"
    }
   ],
   "source": [
    "df['babies']"
   ]
  },
  {
   "cell_type": "code",
   "execution_count": 56,
   "id": "296c89d4-ef63-4fe4-9470-0da71c0b613c",
   "metadata": {},
   "outputs": [
    {
     "data": {
      "text/plain": [
       "array([ 0,  1,  2, 10,  9])"
      ]
     },
     "execution_count": 56,
     "metadata": {},
     "output_type": "execute_result"
    }
   ],
   "source": [
    "df['babies'].unique()"
   ]
  },
  {
   "cell_type": "code",
   "execution_count": 57,
   "id": "e05fa204-720b-4931-87cc-b3c7ea3fbe2b",
   "metadata": {},
   "outputs": [
    {
     "data": {
      "text/plain": [
       "5"
      ]
     },
     "execution_count": 57,
     "metadata": {},
     "output_type": "execute_result"
    }
   ],
   "source": [
    "df['babies'].nunique()"
   ]
  },
  {
   "cell_type": "markdown",
   "id": "73b98550-4694-462e-ba8a-1a1efb20fcda",
   "metadata": {},
   "source": [
    "## 13.meal\n",
    "The `meal` column indicates type of meal booked (e.g., breakfast, half board, full board)."
   ]
  },
  {
   "cell_type": "code",
   "execution_count": 58,
   "id": "743b2687-1dcd-4dd9-ab71-ab2934491d46",
   "metadata": {},
   "outputs": [
    {
     "data": {
      "text/plain": [
       "0         BB\n",
       "1         BB\n",
       "2         BB\n",
       "3         BB\n",
       "4         BB\n",
       "          ..\n",
       "119385    BB\n",
       "119386    BB\n",
       "119387    BB\n",
       "119388    BB\n",
       "119389    HB\n",
       "Name: meal, Length: 87011, dtype: object"
      ]
     },
     "execution_count": 58,
     "metadata": {},
     "output_type": "execute_result"
    }
   ],
   "source": [
    "df['meal']"
   ]
  },
  {
   "cell_type": "code",
   "execution_count": 59,
   "id": "0f87fdcc-4eb4-4710-a6a4-0f5e40e049e5",
   "metadata": {},
   "outputs": [
    {
     "data": {
      "text/plain": [
       "array(['BB', 'FB', 'HB', 'SC', 'Undefined'], dtype=object)"
      ]
     },
     "execution_count": 59,
     "metadata": {},
     "output_type": "execute_result"
    }
   ],
   "source": [
    "df['meal'].unique()"
   ]
  },
  {
   "cell_type": "code",
   "execution_count": 60,
   "id": "ffd6d166-fe78-423e-93cc-782d18ce06cd",
   "metadata": {},
   "outputs": [
    {
     "data": {
      "text/plain": [
       "5"
      ]
     },
     "execution_count": 60,
     "metadata": {},
     "output_type": "execute_result"
    }
   ],
   "source": [
    "df['meal'].nunique()"
   ]
  },
  {
   "cell_type": "code",
   "execution_count": 61,
   "id": "491110fb-0119-4165-8929-9853a05cf386",
   "metadata": {},
   "outputs": [],
   "source": [
    "mode=df['meal'].mode()\n",
    "df['meal'].fillna(mode,inplace=True)"
   ]
  },
  {
   "cell_type": "code",
   "execution_count": 62,
   "id": "5a8dfc38-3381-4684-b671-8f7a46221bab",
   "metadata": {},
   "outputs": [
    {
     "data": {
      "text/plain": [
       "array(['BB', 'FB', 'HB', 'SC', 'Undefined'], dtype=object)"
      ]
     },
     "execution_count": 62,
     "metadata": {},
     "output_type": "execute_result"
    }
   ],
   "source": [
    "df['meal'].unique()"
   ]
  },
  {
   "cell_type": "markdown",
   "id": "a508cf79-d6ec-47a5-8914-fc427fb2254c",
   "metadata": {},
   "source": [
    "## 14.country\n",
    "The `country` column indicates country of origin of the guest."
   ]
  },
  {
   "cell_type": "code",
   "execution_count": 63,
   "id": "6a79342f-c518-4c94-931d-a299eda73997",
   "metadata": {},
   "outputs": [
    {
     "data": {
      "text/plain": [
       "0         PRT\n",
       "1         PRT\n",
       "2         GBR\n",
       "3         GBR\n",
       "4         GBR\n",
       "         ... \n",
       "119385    BEL\n",
       "119386    FRA\n",
       "119387    DEU\n",
       "119388    GBR\n",
       "119389    DEU\n",
       "Name: country, Length: 87011, dtype: object"
      ]
     },
     "execution_count": 63,
     "metadata": {},
     "output_type": "execute_result"
    }
   ],
   "source": [
    "df['country']"
   ]
  },
  {
   "cell_type": "code",
   "execution_count": 64,
   "id": "4bec20da-5cb6-4a35-bcb1-49716aae9196",
   "metadata": {},
   "outputs": [
    {
     "data": {
      "text/plain": [
       "array(['PRT', 'GBR', 'USA', 'ESP', 'IRL', 'FRA', nan, 'ROU', 'NOR', 'OMN',\n",
       "       'ARG', 'POL', 'DEU', 'BEL', 'CHE', 'CN', 'GRC', 'ITA', 'NLD',\n",
       "       'DNK', 'RUS', 'SWE', 'AUS', 'EST', 'CZE', 'BRA', 'FIN', 'MOZ',\n",
       "       'BWA', 'LUX', 'SVN', 'ALB', 'IND', 'CHN', 'MEX', 'MAR', 'UKR',\n",
       "       'SMR', 'LVA', 'PRI', 'SRB', 'CHL', 'AUT', 'BLR', 'LTU', 'TUR',\n",
       "       'ZAF', 'AGO', 'ISR', 'CYM', 'ZMB', 'CPV', 'ZWE', 'DZA', 'KOR',\n",
       "       'CRI', 'HUN', 'ARE', 'TUN', 'JAM', 'HRV', 'HKG', 'IRN', 'GEO',\n",
       "       'AND', 'GIB', 'URY', 'JEY', 'CAF', 'CYP', 'COL', 'GGY', 'KWT',\n",
       "       'NGA', 'MDV', 'VEN', 'SVK', 'FJI', 'KAZ', 'PAK', 'IDN', 'LBN',\n",
       "       'PHL', 'SEN', 'SYC', 'AZE', 'BHR', 'NZL', 'THA', 'DOM', 'MKD',\n",
       "       'MYS', 'ARM', 'JPN', 'LKA', 'CUB', 'CMR', 'BIH', 'MUS', 'COM',\n",
       "       'SUR', 'UGA', 'BGR', 'CIV', 'JOR', 'SYR', 'SGP', 'BDI', 'SAU',\n",
       "       'VNM', 'PLW', 'QAT', 'EGY', 'PER', 'MLT', 'MWI', 'ECU', 'MDG',\n",
       "       'ISL', 'UZB', 'NPL', 'BHS', 'MAC', 'TGO', 'TWN', 'DJI', 'STP',\n",
       "       'KNA', 'ETH', 'IRQ', 'HND', 'RWA', 'KHM', 'MCO', 'BGD', 'IMN',\n",
       "       'TJK', 'NIC', 'BEN', 'VGB', 'TZA', 'GAB', 'GHA', 'TMP', 'GLP',\n",
       "       'KEN', 'LIE', 'GNB', 'MNE', 'UMI', 'MYT', 'FRO', 'MMR', 'PAN',\n",
       "       'BFA', 'LBY', 'MLI', 'NAM', 'BOL', 'PRY', 'BRB', 'ABW', 'AIA',\n",
       "       'SLV', 'DMA', 'PYF', 'GUY', 'LCA', 'ATA', 'GTM', 'ASM', 'MRT',\n",
       "       'NCL', 'KIR', 'SDN', 'ATF', 'SLE', 'LAO'], dtype=object)"
      ]
     },
     "execution_count": 64,
     "metadata": {},
     "output_type": "execute_result"
    }
   ],
   "source": [
    "df['country'].unique()"
   ]
  },
  {
   "cell_type": "code",
   "execution_count": 65,
   "id": "a14a3b06-6c74-408a-83dd-f47d47c5abad",
   "metadata": {},
   "outputs": [
    {
     "data": {
      "text/plain": [
       "177"
      ]
     },
     "execution_count": 65,
     "metadata": {},
     "output_type": "execute_result"
    }
   ],
   "source": [
    "df['country'].nunique()"
   ]
  },
  {
   "cell_type": "code",
   "execution_count": 66,
   "id": "080791a1-3198-4cac-849d-90e79599b3d3",
   "metadata": {},
   "outputs": [
    {
     "data": {
      "text/plain": [
       "np.int64(447)"
      ]
     },
     "execution_count": 66,
     "metadata": {},
     "output_type": "execute_result"
    }
   ],
   "source": [
    "df['country'].isnull().sum()"
   ]
  },
  {
   "cell_type": "code",
   "execution_count": 67,
   "id": "041f1e86-087b-4338-a39b-229d7c0e27ff",
   "metadata": {},
   "outputs": [],
   "source": [
    "mode=df['country'].mode()[0]  # Using the first value of the mode Series\n",
    "df['country'].fillna(mode,inplace=True)"
   ]
  },
  {
   "cell_type": "code",
   "execution_count": 68,
   "id": "81aeb084-4e98-4f12-847e-d82dcea63fbe",
   "metadata": {},
   "outputs": [
    {
     "data": {
      "text/plain": [
       "array(['PRT', 'GBR', 'USA', 'ESP', 'IRL', 'FRA', 'ROU', 'NOR', 'OMN',\n",
       "       'ARG', 'POL', 'DEU', 'BEL', 'CHE', 'CN', 'GRC', 'ITA', 'NLD',\n",
       "       'DNK', 'RUS', 'SWE', 'AUS', 'EST', 'CZE', 'BRA', 'FIN', 'MOZ',\n",
       "       'BWA', 'LUX', 'SVN', 'ALB', 'IND', 'CHN', 'MEX', 'MAR', 'UKR',\n",
       "       'SMR', 'LVA', 'PRI', 'SRB', 'CHL', 'AUT', 'BLR', 'LTU', 'TUR',\n",
       "       'ZAF', 'AGO', 'ISR', 'CYM', 'ZMB', 'CPV', 'ZWE', 'DZA', 'KOR',\n",
       "       'CRI', 'HUN', 'ARE', 'TUN', 'JAM', 'HRV', 'HKG', 'IRN', 'GEO',\n",
       "       'AND', 'GIB', 'URY', 'JEY', 'CAF', 'CYP', 'COL', 'GGY', 'KWT',\n",
       "       'NGA', 'MDV', 'VEN', 'SVK', 'FJI', 'KAZ', 'PAK', 'IDN', 'LBN',\n",
       "       'PHL', 'SEN', 'SYC', 'AZE', 'BHR', 'NZL', 'THA', 'DOM', 'MKD',\n",
       "       'MYS', 'ARM', 'JPN', 'LKA', 'CUB', 'CMR', 'BIH', 'MUS', 'COM',\n",
       "       'SUR', 'UGA', 'BGR', 'CIV', 'JOR', 'SYR', 'SGP', 'BDI', 'SAU',\n",
       "       'VNM', 'PLW', 'QAT', 'EGY', 'PER', 'MLT', 'MWI', 'ECU', 'MDG',\n",
       "       'ISL', 'UZB', 'NPL', 'BHS', 'MAC', 'TGO', 'TWN', 'DJI', 'STP',\n",
       "       'KNA', 'ETH', 'IRQ', 'HND', 'RWA', 'KHM', 'MCO', 'BGD', 'IMN',\n",
       "       'TJK', 'NIC', 'BEN', 'VGB', 'TZA', 'GAB', 'GHA', 'TMP', 'GLP',\n",
       "       'KEN', 'LIE', 'GNB', 'MNE', 'UMI', 'MYT', 'FRO', 'MMR', 'PAN',\n",
       "       'BFA', 'LBY', 'MLI', 'NAM', 'BOL', 'PRY', 'BRB', 'ABW', 'AIA',\n",
       "       'SLV', 'DMA', 'PYF', 'GUY', 'LCA', 'ATA', 'GTM', 'ASM', 'MRT',\n",
       "       'NCL', 'KIR', 'SDN', 'ATF', 'SLE', 'LAO'], dtype=object)"
      ]
     },
     "execution_count": 68,
     "metadata": {},
     "output_type": "execute_result"
    }
   ],
   "source": [
    "df['country'].unique()  "
   ]
  },
  {
   "cell_type": "code",
   "execution_count": 69,
   "id": "365685fb-3d25-4e4e-b2d6-88f45257321a",
   "metadata": {},
   "outputs": [
    {
     "data": {
      "text/plain": [
       "np.int64(0)"
      ]
     },
     "execution_count": 69,
     "metadata": {},
     "output_type": "execute_result"
    }
   ],
   "source": [
    "df['country'].isnull().sum()"
   ]
  },
  {
   "cell_type": "markdown",
   "id": "722d36fe-425a-4cb3-8759-6278024ff516",
   "metadata": {},
   "source": [
    "## 15.market_segment\n",
    "The `market_segment` column indiactes market segment designation (e.g., online travel agencies, corporate)."
   ]
  },
  {
   "cell_type": "code",
   "execution_count": 70,
   "id": "3e839d25-4c47-4851-b64a-2814146d66f1",
   "metadata": {},
   "outputs": [
    {
     "data": {
      "text/plain": [
       "0                Direct\n",
       "1                Direct\n",
       "2                Direct\n",
       "3             Corporate\n",
       "4             Online TA\n",
       "              ...      \n",
       "119385    Offline TA/TO\n",
       "119386        Online TA\n",
       "119387        Online TA\n",
       "119388        Online TA\n",
       "119389        Online TA\n",
       "Name: market_segment, Length: 87011, dtype: object"
      ]
     },
     "execution_count": 70,
     "metadata": {},
     "output_type": "execute_result"
    }
   ],
   "source": [
    "df['market_segment']"
   ]
  },
  {
   "cell_type": "code",
   "execution_count": 71,
   "id": "1472993c-57f8-4654-aa29-54446a35cb90",
   "metadata": {},
   "outputs": [
    {
     "data": {
      "text/plain": [
       "array(['Direct', 'Corporate', 'Online TA', 'Offline TA/TO',\n",
       "       'Complementary', 'Groups', 'Undefined', 'Aviation'], dtype=object)"
      ]
     },
     "execution_count": 71,
     "metadata": {},
     "output_type": "execute_result"
    }
   ],
   "source": [
    "df['market_segment'].unique()"
   ]
  },
  {
   "cell_type": "code",
   "execution_count": 72,
   "id": "0cb4c501-e3a9-4d7c-8da4-ccd917936335",
   "metadata": {},
   "outputs": [
    {
     "data": {
      "text/plain": [
       "8"
      ]
     },
     "execution_count": 72,
     "metadata": {},
     "output_type": "execute_result"
    }
   ],
   "source": [
    "df['market_segment'].nunique()"
   ]
  },
  {
   "cell_type": "markdown",
   "id": "595aa63b-6fc2-49aa-99b1-1b285213d9a3",
   "metadata": {},
   "source": [
    "## 16.distribution_channel\n",
    "The `distribution_channel` column indicates booking distribution channel (e.g., travel agency, direct)."
   ]
  },
  {
   "cell_type": "code",
   "execution_count": 73,
   "id": "a9336a9f-f93c-4c55-b418-8f54762e001f",
   "metadata": {},
   "outputs": [
    {
     "data": {
      "text/plain": [
       "0            Direct\n",
       "1            Direct\n",
       "2            Direct\n",
       "3         Corporate\n",
       "4             TA/TO\n",
       "            ...    \n",
       "119385        TA/TO\n",
       "119386        TA/TO\n",
       "119387        TA/TO\n",
       "119388        TA/TO\n",
       "119389        TA/TO\n",
       "Name: distribution_channel, Length: 87011, dtype: object"
      ]
     },
     "execution_count": 73,
     "metadata": {},
     "output_type": "execute_result"
    }
   ],
   "source": [
    "df['distribution_channel']"
   ]
  },
  {
   "cell_type": "code",
   "execution_count": 74,
   "id": "4c1acb16-7589-4f52-bcf9-8fc293139450",
   "metadata": {},
   "outputs": [
    {
     "data": {
      "text/plain": [
       "array(['Direct', 'Corporate', 'TA/TO', 'Undefined', 'GDS'], dtype=object)"
      ]
     },
     "execution_count": 74,
     "metadata": {},
     "output_type": "execute_result"
    }
   ],
   "source": [
    "df['distribution_channel'].unique()"
   ]
  },
  {
   "cell_type": "code",
   "execution_count": 75,
   "id": "10b8d4e7-863a-465d-aa59-e8b3e3a08301",
   "metadata": {},
   "outputs": [
    {
     "data": {
      "text/plain": [
       "5"
      ]
     },
     "execution_count": 75,
     "metadata": {},
     "output_type": "execute_result"
    }
   ],
   "source": [
    "df['distribution_channel'].nunique()"
   ]
  },
  {
   "cell_type": "markdown",
   "id": "f6649714-d786-496b-adaf-7ffc7be1707a",
   "metadata": {},
   "source": [
    "## 17.is_repeated_guest\n",
    "The `is_repeated_guest` column indicates binary variable indicating if the booking is from a repeated guest (1) or not (0)."
   ]
  },
  {
   "cell_type": "code",
   "execution_count": 76,
   "id": "66a740cd-4bc9-4e7d-a05c-7cc8ff8abad9",
   "metadata": {},
   "outputs": [
    {
     "data": {
      "text/plain": [
       "0         0\n",
       "1         0\n",
       "2         0\n",
       "3         0\n",
       "4         0\n",
       "         ..\n",
       "119385    0\n",
       "119386    0\n",
       "119387    0\n",
       "119388    0\n",
       "119389    0\n",
       "Name: is_repeated_guest, Length: 87011, dtype: int64"
      ]
     },
     "execution_count": 76,
     "metadata": {},
     "output_type": "execute_result"
    }
   ],
   "source": [
    "df['is_repeated_guest']"
   ]
  },
  {
   "cell_type": "code",
   "execution_count": 77,
   "id": "cb97549d-bca8-4b77-9feb-cb38a7f7888e",
   "metadata": {},
   "outputs": [
    {
     "data": {
      "text/plain": [
       "array([0, 1])"
      ]
     },
     "execution_count": 77,
     "metadata": {},
     "output_type": "execute_result"
    }
   ],
   "source": [
    "df['is_repeated_guest'].unique()"
   ]
  },
  {
   "cell_type": "code",
   "execution_count": 78,
   "id": "5625beb1-e9d2-4c61-a40f-4dbb609108de",
   "metadata": {},
   "outputs": [
    {
     "data": {
      "text/plain": [
       "2"
      ]
     },
     "execution_count": 78,
     "metadata": {},
     "output_type": "execute_result"
    }
   ],
   "source": [
    "df['is_repeated_guest'].nunique()"
   ]
  },
  {
   "cell_type": "markdown",
   "id": "f7867b99-da52-49ee-91c2-8891edc0f40b",
   "metadata": {},
   "source": [
    "## 18.previous_cancellations\n",
    "The `previous_cancellations` column indicates number of previous bookings canceled by the customer."
   ]
  },
  {
   "cell_type": "code",
   "execution_count": 79,
   "id": "26e439de-257c-4664-9684-23c3b99e488b",
   "metadata": {},
   "outputs": [
    {
     "data": {
      "text/plain": [
       "0         0\n",
       "1         0\n",
       "2         0\n",
       "3         0\n",
       "4         0\n",
       "         ..\n",
       "119385    0\n",
       "119386    0\n",
       "119387    0\n",
       "119388    0\n",
       "119389    0\n",
       "Name: previous_cancellations, Length: 87011, dtype: int64"
      ]
     },
     "execution_count": 79,
     "metadata": {},
     "output_type": "execute_result"
    }
   ],
   "source": [
    "df['previous_cancellations']"
   ]
  },
  {
   "cell_type": "code",
   "execution_count": 80,
   "id": "e7b0e74c-46af-49c0-911a-508dcb9bb590",
   "metadata": {},
   "outputs": [
    {
     "data": {
      "text/plain": [
       "array([ 0,  1,  2,  3, 26, 25, 14,  4, 24, 19,  5, 21,  6, 13, 11])"
      ]
     },
     "execution_count": 80,
     "metadata": {},
     "output_type": "execute_result"
    }
   ],
   "source": [
    "df['previous_cancellations'].unique()"
   ]
  },
  {
   "cell_type": "code",
   "execution_count": 81,
   "id": "97a41d8f-c7b9-45fe-a811-bcd0066c9419",
   "metadata": {},
   "outputs": [
    {
     "data": {
      "text/plain": [
       "15"
      ]
     },
     "execution_count": 81,
     "metadata": {},
     "output_type": "execute_result"
    }
   ],
   "source": [
    "df['previous_cancellations'].nunique()"
   ]
  },
  {
   "cell_type": "markdown",
   "id": "a6063122-90e3-4853-b6c0-0147c24864be",
   "metadata": {},
   "source": [
    "## 19.previous_bookings_not_canceled\n",
    "The `previous_bookings_not_canceled` column indicates number of previous bookings not canceled by the customer."
   ]
  },
  {
   "cell_type": "code",
   "execution_count": 82,
   "id": "1ff21692-3b82-4109-9100-6e877acef79c",
   "metadata": {},
   "outputs": [
    {
     "data": {
      "text/plain": [
       "0         0\n",
       "1         0\n",
       "2         0\n",
       "3         0\n",
       "4         0\n",
       "         ..\n",
       "119385    0\n",
       "119386    0\n",
       "119387    0\n",
       "119388    0\n",
       "119389    0\n",
       "Name: previous_bookings_not_canceled, Length: 87011, dtype: int64"
      ]
     },
     "execution_count": 82,
     "metadata": {},
     "output_type": "execute_result"
    }
   ],
   "source": [
    "df['previous_bookings_not_canceled']"
   ]
  },
  {
   "cell_type": "code",
   "execution_count": 83,
   "id": "ee97ef86-3992-4af2-a9be-b8ba76431901",
   "metadata": {},
   "outputs": [
    {
     "data": {
      "text/plain": [
       "array([ 0,  1,  2,  3,  4,  5,  6,  7,  8,  9, 10, 11, 12, 13, 14, 15, 16,\n",
       "       17, 18, 20, 21, 22, 23, 24, 25, 27, 28, 29, 30, 19, 26, 31, 32, 33,\n",
       "       34, 35, 36, 37, 38, 39, 40, 41, 42, 43, 44, 45, 46, 47, 48, 49, 50,\n",
       "       51, 52, 53, 54, 55, 56, 57, 58, 59, 60, 61, 62, 63, 64, 65, 66, 67,\n",
       "       68, 69, 70, 71, 72])"
      ]
     },
     "execution_count": 83,
     "metadata": {},
     "output_type": "execute_result"
    }
   ],
   "source": [
    "df['previous_bookings_not_canceled'].unique()"
   ]
  },
  {
   "cell_type": "code",
   "execution_count": 84,
   "id": "266d9d7b-2a29-4448-9625-c1209d8733d2",
   "metadata": {},
   "outputs": [
    {
     "data": {
      "text/plain": [
       "73"
      ]
     },
     "execution_count": 84,
     "metadata": {},
     "output_type": "execute_result"
    }
   ],
   "source": [
    "df['previous_bookings_not_canceled'].nunique()"
   ]
  },
  {
   "cell_type": "markdown",
   "id": "aa5f347b-0937-4960-bab1-9eedbc6088d1",
   "metadata": {},
   "source": [
    "## 20.reserved_room_type\n",
    "The `reserved_room_type` column indicates type of room reserved."
   ]
  },
  {
   "cell_type": "code",
   "execution_count": 85,
   "id": "e250355f-9ca4-4a4b-8c44-baa5643f269e",
   "metadata": {},
   "outputs": [
    {
     "data": {
      "text/plain": [
       "0         C\n",
       "1         C\n",
       "2         A\n",
       "3         A\n",
       "4         A\n",
       "         ..\n",
       "119385    A\n",
       "119386    E\n",
       "119387    D\n",
       "119388    A\n",
       "119389    A\n",
       "Name: reserved_room_type, Length: 87011, dtype: object"
      ]
     },
     "execution_count": 85,
     "metadata": {},
     "output_type": "execute_result"
    }
   ],
   "source": [
    "df['reserved_room_type']"
   ]
  },
  {
   "cell_type": "code",
   "execution_count": 86,
   "id": "9eb32292-4b91-424f-9f77-0b1ec208d1a7",
   "metadata": {},
   "outputs": [
    {
     "data": {
      "text/plain": [
       "array(['C', 'A', 'D', 'E', 'G', 'F', 'H', 'L', 'B'], dtype=object)"
      ]
     },
     "execution_count": 86,
     "metadata": {},
     "output_type": "execute_result"
    }
   ],
   "source": [
    "df['reserved_room_type'].unique()"
   ]
  },
  {
   "cell_type": "code",
   "execution_count": 87,
   "id": "63b1dd14-90fe-4128-966a-b81bf5f231b9",
   "metadata": {},
   "outputs": [
    {
     "data": {
      "text/plain": [
       "9"
      ]
     },
     "execution_count": 87,
     "metadata": {},
     "output_type": "execute_result"
    }
   ],
   "source": [
    "df['reserved_room_type'].nunique()"
   ]
  },
  {
   "cell_type": "markdown",
   "id": "308df5f3-f18d-4535-bed7-521a8c41b2fb",
   "metadata": {},
   "source": [
    "## 21.assigned_room_type\n",
    "The `assigned_room_type` column indicates type of room assigned at check-in."
   ]
  },
  {
   "cell_type": "code",
   "execution_count": 88,
   "id": "5610e3d1-b230-49e9-aaf7-37b6190c189e",
   "metadata": {},
   "outputs": [
    {
     "data": {
      "text/plain": [
       "0         C\n",
       "1         C\n",
       "2         C\n",
       "3         A\n",
       "4         A\n",
       "         ..\n",
       "119385    A\n",
       "119386    E\n",
       "119387    D\n",
       "119388    A\n",
       "119389    A\n",
       "Name: assigned_room_type, Length: 87011, dtype: object"
      ]
     },
     "execution_count": 88,
     "metadata": {},
     "output_type": "execute_result"
    }
   ],
   "source": [
    "df['assigned_room_type']"
   ]
  },
  {
   "cell_type": "code",
   "execution_count": 89,
   "id": "4e07c551-ff52-4d33-8aa7-c042c1496fb4",
   "metadata": {},
   "outputs": [
    {
     "data": {
      "text/plain": [
       "array(['C', 'A', 'D', 'E', 'G', 'F', 'I', 'B', 'H', 'L', 'K'],\n",
       "      dtype=object)"
      ]
     },
     "execution_count": 89,
     "metadata": {},
     "output_type": "execute_result"
    }
   ],
   "source": [
    "df['assigned_room_type'].unique()"
   ]
  },
  {
   "cell_type": "code",
   "execution_count": 90,
   "id": "90d65b4c-d95a-462c-8691-2dbba26af574",
   "metadata": {},
   "outputs": [
    {
     "data": {
      "text/plain": [
       "11"
      ]
     },
     "execution_count": 90,
     "metadata": {},
     "output_type": "execute_result"
    }
   ],
   "source": [
    "df['assigned_room_type'].nunique()"
   ]
  },
  {
   "cell_type": "markdown",
   "id": "53019eec-cef7-43d5-9924-9b2dbb63ebc5",
   "metadata": {},
   "source": [
    "## 22.booking_changes\n",
    "The `booking_changes` column indicates number of changes made to the booking before arrival."
   ]
  },
  {
   "cell_type": "code",
   "execution_count": 91,
   "id": "7834ba63-646c-4684-9623-bbc01f834356",
   "metadata": {},
   "outputs": [
    {
     "data": {
      "text/plain": [
       "0         3\n",
       "1         4\n",
       "2         0\n",
       "3         0\n",
       "4         0\n",
       "         ..\n",
       "119385    0\n",
       "119386    0\n",
       "119387    0\n",
       "119388    0\n",
       "119389    0\n",
       "Name: booking_changes, Length: 87011, dtype: int64"
      ]
     },
     "execution_count": 91,
     "metadata": {},
     "output_type": "execute_result"
    }
   ],
   "source": [
    "df['booking_changes']"
   ]
  },
  {
   "cell_type": "code",
   "execution_count": 92,
   "id": "1e58d2e9-d1a5-4b91-95e7-f856cfe05b66",
   "metadata": {},
   "outputs": [
    {
     "data": {
      "text/plain": [
       "array([ 3,  4,  0,  1,  2,  5, 17,  6,  8,  7, 10, 16,  9, 13, 12, 14, 15,\n",
       "       18, 11])"
      ]
     },
     "execution_count": 92,
     "metadata": {},
     "output_type": "execute_result"
    }
   ],
   "source": [
    "df['booking_changes'].unique()"
   ]
  },
  {
   "cell_type": "code",
   "execution_count": 93,
   "id": "d41df5da-f3b2-4441-819c-58048b8179d4",
   "metadata": {},
   "outputs": [
    {
     "data": {
      "text/plain": [
       "19"
      ]
     },
     "execution_count": 93,
     "metadata": {},
     "output_type": "execute_result"
    }
   ],
   "source": [
    "df['booking_changes'].nunique()"
   ]
  },
  {
   "cell_type": "markdown",
   "id": "17f5b53d-b3fc-46b5-9aef-bfaa1748de42",
   "metadata": {},
   "source": [
    "## 23.deposit_type\n",
    "The `deposit_type` column indiactes type of deposit made (e.g., no deposit, refundable, non-refundable)."
   ]
  },
  {
   "cell_type": "code",
   "execution_count": 94,
   "id": "cd2324a3-b730-45c0-a36f-d885790bea29",
   "metadata": {},
   "outputs": [
    {
     "data": {
      "text/plain": [
       "0         No Deposit\n",
       "1         No Deposit\n",
       "2         No Deposit\n",
       "3         No Deposit\n",
       "4         No Deposit\n",
       "             ...    \n",
       "119385    No Deposit\n",
       "119386    No Deposit\n",
       "119387    No Deposit\n",
       "119388    No Deposit\n",
       "119389    No Deposit\n",
       "Name: deposit_type, Length: 87011, dtype: object"
      ]
     },
     "execution_count": 94,
     "metadata": {},
     "output_type": "execute_result"
    }
   ],
   "source": [
    "df['deposit_type']"
   ]
  },
  {
   "cell_type": "code",
   "execution_count": 95,
   "id": "1b1c6d3d-7f75-49e1-9c51-9ab98c753fe5",
   "metadata": {},
   "outputs": [
    {
     "data": {
      "text/plain": [
       "array(['No Deposit', 'Refundable', 'Non Refund'], dtype=object)"
      ]
     },
     "execution_count": 95,
     "metadata": {},
     "output_type": "execute_result"
    }
   ],
   "source": [
    "df['deposit_type'].unique()"
   ]
  },
  {
   "cell_type": "code",
   "execution_count": 96,
   "id": "223fd384-0066-408f-9b8f-54c783e4beef",
   "metadata": {},
   "outputs": [
    {
     "data": {
      "text/plain": [
       "3"
      ]
     },
     "execution_count": 96,
     "metadata": {},
     "output_type": "execute_result"
    }
   ],
   "source": [
    "df['deposit_type'].nunique()"
   ]
  },
  {
   "cell_type": "markdown",
   "id": "6c561d8e-8a2c-4125-bc95-d8cb8749f6ff",
   "metadata": {},
   "source": [
    "## 24.agent \n",
    "The `agent` column indicates ID of the travel agency that made the booking."
   ]
  },
  {
   "cell_type": "code",
   "execution_count": 97,
   "id": "bffca6c5-d8a8-4230-a066-63d401362c07",
   "metadata": {},
   "outputs": [
    {
     "data": {
      "text/plain": [
       "0           NaN\n",
       "1           NaN\n",
       "2           NaN\n",
       "3         304.0\n",
       "4         240.0\n",
       "          ...  \n",
       "119385    394.0\n",
       "119386      9.0\n",
       "119387      9.0\n",
       "119388     89.0\n",
       "119389      9.0\n",
       "Name: agent, Length: 87011, dtype: float64"
      ]
     },
     "execution_count": 97,
     "metadata": {},
     "output_type": "execute_result"
    }
   ],
   "source": [
    "df['agent']"
   ]
  },
  {
   "cell_type": "code",
   "execution_count": 98,
   "id": "55cc76a1-1122-44ca-89c4-0d9cb40ef733",
   "metadata": {},
   "outputs": [
    {
     "data": {
      "text/plain": [
       "array([ nan, 304., 240., 303.,  15., 241.,   8., 250., 115.,   5., 175.,\n",
       "       134., 156., 243., 242.,   3., 105.,  40., 147., 306., 184.,  96.,\n",
       "         2., 127.,  95., 146.,   9., 177.,   6., 143., 244., 149., 167.,\n",
       "       300., 171., 305.,  67., 196., 152., 142., 261., 104.,  36.,  26.,\n",
       "        29., 258., 110.,  71., 181.,  88., 251., 275.,  69., 248., 208.,\n",
       "       256., 314., 126., 281., 273., 253., 185., 330., 334., 328., 326.,\n",
       "       321., 324., 313.,  38., 155.,  68., 335., 308., 332.,  94., 348.,\n",
       "       310., 339., 375.,  66., 327., 387., 298.,  91., 245., 385., 257.,\n",
       "       393., 168., 405., 249., 315.,  75., 128., 307.,  11., 436.,   1.,\n",
       "       201., 183., 223., 368., 336., 291., 464., 411., 481.,  10., 154.,\n",
       "       468., 410., 390., 440., 495., 492., 493., 434.,  57., 531., 420.,\n",
       "       483., 526., 472., 429.,  16., 446.,  34.,  78., 139., 252., 270.,\n",
       "        47., 114., 301., 193., 182., 135., 350., 195., 352., 355., 159.,\n",
       "       363., 384., 360., 331., 367.,  64., 406., 163., 414., 333., 427.,\n",
       "       431., 430., 426., 438., 433., 418., 441., 282., 432.,  72., 450.,\n",
       "       180., 454., 455.,  59., 451., 254., 358., 469., 165., 467., 510.,\n",
       "       337., 476., 502., 527., 479., 508., 535., 302., 497., 187.,  13.,\n",
       "         7.,  27.,  14.,  22.,  17.,  28.,  42.,  20.,  19.,  45.,  37.,\n",
       "        61.,  39.,  21.,  24.,  41.,  50.,  30.,  54.,  52.,  12.,  44.,\n",
       "        31.,  83.,  32.,  63.,  60.,  55.,  56.,  89.,  87., 118.,  86.,\n",
       "        85., 210., 214., 129., 179., 138., 174., 170., 153.,  93., 151.,\n",
       "       119.,  35., 173.,  58.,  53., 133.,  79., 235., 192., 191., 236.,\n",
       "       162., 215., 157., 287., 132., 234.,  98.,  77., 103., 107., 262.,\n",
       "       220., 121., 205., 378.,  23., 296., 290., 229.,  33., 286., 276.,\n",
       "       425., 484., 323., 403., 219., 394., 509., 111., 423.,   4.,  70.,\n",
       "        82.,  81.,  74.,  92.,  99.,  90., 112., 117., 106., 148., 158.,\n",
       "       144., 211., 213., 216., 232., 150., 267., 227., 247., 278., 280.,\n",
       "       285., 289., 269., 295., 265., 288., 122., 294., 325., 341., 344.,\n",
       "       346., 359., 283., 364., 370., 371.,  25., 141., 391., 397., 416.,\n",
       "       404., 299., 197.,  73., 354., 444., 408., 461., 388., 453., 459.,\n",
       "       474., 475., 480., 449.])"
      ]
     },
     "execution_count": 98,
     "metadata": {},
     "output_type": "execute_result"
    }
   ],
   "source": [
    "df['agent'].unique()"
   ]
  },
  {
   "cell_type": "code",
   "execution_count": 99,
   "id": "e2edbc20-3fb7-4993-b500-f3be2287985c",
   "metadata": {},
   "outputs": [
    {
     "data": {
      "text/plain": [
       "333"
      ]
     },
     "execution_count": 99,
     "metadata": {},
     "output_type": "execute_result"
    }
   ],
   "source": [
    "df['agent'].nunique()"
   ]
  },
  {
   "cell_type": "code",
   "execution_count": 100,
   "id": "bd99a2e2-65fd-4af7-88e5-c4e57f13d528",
   "metadata": {},
   "outputs": [
    {
     "name": "stdout",
     "output_type": "stream",
     "text": [
      "No outliers detected.\n"
     ]
    }
   ],
   "source": [
    "Q1 = df['agent'].quantile(0.25)\n",
    "Q3 = df['agent'].quantile(0.75)\n",
    "IQR = Q3 - Q1\n",
    "\n",
    "# Calculate bounds\n",
    "lower_bound = Q1 - 1.5 * IQR\n",
    "upper_bound = Q3 + 1.5 * IQR\n",
    "\n",
    "# Check for outliers\n",
    "outliers = df[(df['agent'] < lower_bound) | (df['agent'] > upper_bound)]\n",
    "\n",
    "if not outliers.empty:\n",
    "    print(\"Outliers detected:\")\n",
    "else:\n",
    "    print(\"No outliers detected.\")"
   ]
  },
  {
   "cell_type": "code",
   "execution_count": 101,
   "id": "340830c9-a508-4343-a221-1127eb09e436",
   "metadata": {},
   "outputs": [],
   "source": [
    "mean=df['agent'].mean()\n",
    "df['agent'].fillna(mean,inplace=True)"
   ]
  },
  {
   "cell_type": "code",
   "execution_count": 102,
   "id": "1a63a0ac-4d0f-4dea-a5d5-464d3ddce81c",
   "metadata": {},
   "outputs": [
    {
     "data": {
      "text/plain": [
       "0          94.428219\n",
       "1          94.428219\n",
       "2          94.428219\n",
       "3         304.000000\n",
       "4         240.000000\n",
       "             ...    \n",
       "119385    394.000000\n",
       "119386      9.000000\n",
       "119387      9.000000\n",
       "119388     89.000000\n",
       "119389      9.000000\n",
       "Name: agent, Length: 87011, dtype: float64"
      ]
     },
     "execution_count": 102,
     "metadata": {},
     "output_type": "execute_result"
    }
   ],
   "source": [
    "df['agent']"
   ]
  },
  {
   "cell_type": "code",
   "execution_count": 103,
   "id": "18be907f-adc8-4608-98a6-387d3f783f17",
   "metadata": {},
   "outputs": [
    {
     "data": {
      "text/plain": [
       "array([ 94.42821852, 304.        , 240.        , 303.        ,\n",
       "        15.        , 241.        ,   8.        , 250.        ,\n",
       "       115.        ,   5.        , 175.        , 134.        ,\n",
       "       156.        , 243.        , 242.        ,   3.        ,\n",
       "       105.        ,  40.        , 147.        , 306.        ,\n",
       "       184.        ,  96.        ,   2.        , 127.        ,\n",
       "        95.        , 146.        ,   9.        , 177.        ,\n",
       "         6.        , 143.        , 244.        , 149.        ,\n",
       "       167.        , 300.        , 171.        , 305.        ,\n",
       "        67.        , 196.        , 152.        , 142.        ,\n",
       "       261.        , 104.        ,  36.        ,  26.        ,\n",
       "        29.        , 258.        , 110.        ,  71.        ,\n",
       "       181.        ,  88.        , 251.        , 275.        ,\n",
       "        69.        , 248.        , 208.        , 256.        ,\n",
       "       314.        , 126.        , 281.        , 273.        ,\n",
       "       253.        , 185.        , 330.        , 334.        ,\n",
       "       328.        , 326.        , 321.        , 324.        ,\n",
       "       313.        ,  38.        , 155.        ,  68.        ,\n",
       "       335.        , 308.        , 332.        ,  94.        ,\n",
       "       348.        , 310.        , 339.        , 375.        ,\n",
       "        66.        , 327.        , 387.        , 298.        ,\n",
       "        91.        , 245.        , 385.        , 257.        ,\n",
       "       393.        , 168.        , 405.        , 249.        ,\n",
       "       315.        ,  75.        , 128.        , 307.        ,\n",
       "        11.        , 436.        ,   1.        , 201.        ,\n",
       "       183.        , 223.        , 368.        , 336.        ,\n",
       "       291.        , 464.        , 411.        , 481.        ,\n",
       "        10.        , 154.        , 468.        , 410.        ,\n",
       "       390.        , 440.        , 495.        , 492.        ,\n",
       "       493.        , 434.        ,  57.        , 531.        ,\n",
       "       420.        , 483.        , 526.        , 472.        ,\n",
       "       429.        ,  16.        , 446.        ,  34.        ,\n",
       "        78.        , 139.        , 252.        , 270.        ,\n",
       "        47.        , 114.        , 301.        , 193.        ,\n",
       "       182.        , 135.        , 350.        , 195.        ,\n",
       "       352.        , 355.        , 159.        , 363.        ,\n",
       "       384.        , 360.        , 331.        , 367.        ,\n",
       "        64.        , 406.        , 163.        , 414.        ,\n",
       "       333.        , 427.        , 431.        , 430.        ,\n",
       "       426.        , 438.        , 433.        , 418.        ,\n",
       "       441.        , 282.        , 432.        ,  72.        ,\n",
       "       450.        , 180.        , 454.        , 455.        ,\n",
       "        59.        , 451.        , 254.        , 358.        ,\n",
       "       469.        , 165.        , 467.        , 510.        ,\n",
       "       337.        , 476.        , 502.        , 527.        ,\n",
       "       479.        , 508.        , 535.        , 302.        ,\n",
       "       497.        , 187.        ,  13.        ,   7.        ,\n",
       "        27.        ,  14.        ,  22.        ,  17.        ,\n",
       "        28.        ,  42.        ,  20.        ,  19.        ,\n",
       "        45.        ,  37.        ,  61.        ,  39.        ,\n",
       "        21.        ,  24.        ,  41.        ,  50.        ,\n",
       "        30.        ,  54.        ,  52.        ,  12.        ,\n",
       "        44.        ,  31.        ,  83.        ,  32.        ,\n",
       "        63.        ,  60.        ,  55.        ,  56.        ,\n",
       "        89.        ,  87.        , 118.        ,  86.        ,\n",
       "        85.        , 210.        , 214.        , 129.        ,\n",
       "       179.        , 138.        , 174.        , 170.        ,\n",
       "       153.        ,  93.        , 151.        , 119.        ,\n",
       "        35.        , 173.        ,  58.        ,  53.        ,\n",
       "       133.        ,  79.        , 235.        , 192.        ,\n",
       "       191.        , 236.        , 162.        , 215.        ,\n",
       "       157.        , 287.        , 132.        , 234.        ,\n",
       "        98.        ,  77.        , 103.        , 107.        ,\n",
       "       262.        , 220.        , 121.        , 205.        ,\n",
       "       378.        ,  23.        , 296.        , 290.        ,\n",
       "       229.        ,  33.        , 286.        , 276.        ,\n",
       "       425.        , 484.        , 323.        , 403.        ,\n",
       "       219.        , 394.        , 509.        , 111.        ,\n",
       "       423.        ,   4.        ,  70.        ,  82.        ,\n",
       "        81.        ,  74.        ,  92.        ,  99.        ,\n",
       "        90.        , 112.        , 117.        , 106.        ,\n",
       "       148.        , 158.        , 144.        , 211.        ,\n",
       "       213.        , 216.        , 232.        , 150.        ,\n",
       "       267.        , 227.        , 247.        , 278.        ,\n",
       "       280.        , 285.        , 289.        , 269.        ,\n",
       "       295.        , 265.        , 288.        , 122.        ,\n",
       "       294.        , 325.        , 341.        , 344.        ,\n",
       "       346.        , 359.        , 283.        , 364.        ,\n",
       "       370.        , 371.        ,  25.        , 141.        ,\n",
       "       391.        , 397.        , 416.        , 404.        ,\n",
       "       299.        , 197.        ,  73.        , 354.        ,\n",
       "       444.        , 408.        , 461.        , 388.        ,\n",
       "       453.        , 459.        , 474.        , 475.        ,\n",
       "       480.        , 449.        ])"
      ]
     },
     "execution_count": 103,
     "metadata": {},
     "output_type": "execute_result"
    }
   ],
   "source": [
    "df['agent'].unique()"
   ]
  },
  {
   "cell_type": "markdown",
   "id": "ff51458d-65e2-4360-8859-091387e4cb3b",
   "metadata": {},
   "source": [
    "## 25.company\n",
    "The `company` column indicates ID of the company or entity that made the booking."
   ]
  },
  {
   "cell_type": "code",
   "execution_count": 104,
   "id": "06fd2f35-5ad0-4cca-8fcb-7a42e741b6ea",
   "metadata": {},
   "outputs": [
    {
     "data": {
      "text/plain": [
       "0        NaN\n",
       "1        NaN\n",
       "2        NaN\n",
       "3        NaN\n",
       "4        NaN\n",
       "          ..\n",
       "119385   NaN\n",
       "119386   NaN\n",
       "119387   NaN\n",
       "119388   NaN\n",
       "119389   NaN\n",
       "Name: company, Length: 87011, dtype: float64"
      ]
     },
     "execution_count": 104,
     "metadata": {},
     "output_type": "execute_result"
    }
   ],
   "source": [
    "df['company']"
   ]
  },
  {
   "cell_type": "code",
   "execution_count": 105,
   "id": "ffc1f5d5-f30c-4807-8a3a-eba57c7f1cbd",
   "metadata": {},
   "outputs": [
    {
     "data": {
      "text/plain": [
       "array([ nan, 110., 113., 270., 178., 240., 154., 144., 307., 268.,  59.,\n",
       "       204., 312., 318.,  94., 274., 174., 195., 223., 317., 281., 118.,\n",
       "        53., 286.,  12.,  47., 324., 342., 373., 371.,  86.,  82., 218.,\n",
       "        88.,  31., 397., 392., 405., 331., 367.,  20.,  83., 416.,  51.,\n",
       "       395., 102.,  34.,  84., 360., 394., 457., 382., 461., 478., 112.,\n",
       "       486., 421.,   9., 308., 135., 224., 504., 269., 356., 498., 390.,\n",
       "       513., 203., 263., 477., 521., 169., 515., 445., 337., 251., 428.,\n",
       "       292., 388., 130., 250., 355., 254., 543., 531., 528.,  62., 120.,\n",
       "        42.,  81., 116., 530., 103.,  39.,  16.,  92.,  61., 501., 165.,\n",
       "       291., 290.,  43., 325., 192., 108., 200., 465., 287., 297., 490.,\n",
       "       482., 207., 282., 437., 225., 329., 272.,  28.,  77., 338.,  72.,\n",
       "       246., 319., 146., 159., 380., 323., 511., 407., 278.,  80., 403.,\n",
       "       399.,  14., 137., 343., 346., 347., 349., 289., 351., 353.,  54.,\n",
       "        99., 358., 361., 362., 366., 372., 365., 277., 109., 377., 379.,\n",
       "        22., 378., 330., 364., 401., 232., 255., 384., 167., 212., 514.,\n",
       "       391., 400., 376., 402., 396., 302., 398.,   6., 370., 369., 409.,\n",
       "       168., 104., 408., 413., 148.,  10., 333., 419., 415., 424., 425.,\n",
       "       423., 422., 435., 439., 442., 448., 443., 454., 444.,  52., 459.,\n",
       "       458., 456., 460., 447., 470., 466., 484., 184., 485.,  32., 487.,\n",
       "       491., 494., 193., 516., 496., 499.,  29.,  78., 520., 507., 506.,\n",
       "       512., 126.,  64., 242., 518., 523., 539., 534., 436., 525., 541.,\n",
       "        40., 455., 410.,  45.,  38.,  49.,  48.,  67.,  68.,  65.,  91.,\n",
       "        37.,   8., 179., 209., 219., 221., 227., 153., 186., 253., 202.,\n",
       "       216., 275., 233., 280., 309., 321.,  93., 316.,  85., 107., 350.,\n",
       "       334., 348., 150.,  73., 385., 418., 197., 450., 452., 115.,  46.,\n",
       "        76.,  96., 100., 105., 101., 122.,  11., 139., 142., 127., 143.,\n",
       "       140., 149., 163., 160., 180., 238., 183., 222., 185., 217., 215.,\n",
       "       213., 237., 230., 234.,  35., 245., 158., 258., 259., 260., 411.,\n",
       "       257., 271.,  18., 106., 210., 273.,  71., 284., 301., 305., 293.,\n",
       "       264., 311., 304., 313., 320., 332., 341., 352., 243., 383., 368.,\n",
       "       393., 132., 220., 412., 420., 426., 417., 429., 433., 446., 357.,\n",
       "       479., 483., 489., 229., 481., 497., 451., 492.])"
      ]
     },
     "execution_count": 105,
     "metadata": {},
     "output_type": "execute_result"
    }
   ],
   "source": [
    "df['company'].unique()"
   ]
  },
  {
   "cell_type": "code",
   "execution_count": 106,
   "id": "77094900-c597-4501-8e9a-f3615c867b34",
   "metadata": {},
   "outputs": [
    {
     "data": {
      "text/plain": [
       "348"
      ]
     },
     "execution_count": 106,
     "metadata": {},
     "output_type": "execute_result"
    }
   ],
   "source": [
    "df['company'].nunique()"
   ]
  },
  {
   "cell_type": "code",
   "execution_count": 107,
   "id": "c068b69f-fd0d-408f-a685-0df98dbd03f5",
   "metadata": {},
   "outputs": [
    {
     "name": "stdout",
     "output_type": "stream",
     "text": [
      "No outliers detected.\n"
     ]
    }
   ],
   "source": [
    "Q1 = df['company'].quantile(0.25)\n",
    "Q3 = df['company'].quantile(0.75)\n",
    "IQR = Q3 - Q1\n",
    "\n",
    "# Calculate bounds\n",
    "lower_bound = Q1 - 1.5 * IQR\n",
    "upper_bound = Q3 + 1.5 * IQR\n",
    "\n",
    "# Check for outliers\n",
    "outliers = df[(df['company'] < lower_bound) | (df['company'] > upper_bound)]\n",
    "\n",
    "if not outliers.empty:\n",
    "    print(\"Outliers detected:\")\n",
    "else:\n",
    "    print(\"No outliers detected.\")"
   ]
  },
  {
   "cell_type": "code",
   "execution_count": 108,
   "id": "77a994c5-caab-4005-b2f6-0ce9f0559be8",
   "metadata": {},
   "outputs": [],
   "source": [
    "mean=df['company'].mean()\n",
    "df['company'].fillna(mean,inplace=True)"
   ]
  },
  {
   "cell_type": "code",
   "execution_count": 109,
   "id": "e7503348-c439-463c-a8f0-4948aa35f4e6",
   "metadata": {},
   "outputs": [
    {
     "data": {
      "text/plain": [
       "0         183.023305\n",
       "1         183.023305\n",
       "2         183.023305\n",
       "3         183.023305\n",
       "4         183.023305\n",
       "             ...    \n",
       "119385    183.023305\n",
       "119386    183.023305\n",
       "119387    183.023305\n",
       "119388    183.023305\n",
       "119389    183.023305\n",
       "Name: company, Length: 87011, dtype: float64"
      ]
     },
     "execution_count": 109,
     "metadata": {},
     "output_type": "execute_result"
    }
   ],
   "source": [
    "df['company']"
   ]
  },
  {
   "cell_type": "markdown",
   "id": "c55461f4-43e9-4a64-8160-0c2718e9630c",
   "metadata": {},
   "source": [
    "## 26.days_in_waiting_list\n",
    "The `days_in_waiting_list` column indicates number of days the booking was in the waiting list before confirmed."
   ]
  },
  {
   "cell_type": "code",
   "execution_count": 110,
   "id": "d2a1c9e6-012f-4694-85ea-33a629041db7",
   "metadata": {},
   "outputs": [
    {
     "data": {
      "text/plain": [
       "0         0\n",
       "1         0\n",
       "2         0\n",
       "3         0\n",
       "4         0\n",
       "         ..\n",
       "119385    0\n",
       "119386    0\n",
       "119387    0\n",
       "119388    0\n",
       "119389    0\n",
       "Name: days_in_waiting_list, Length: 87011, dtype: int64"
      ]
     },
     "execution_count": 110,
     "metadata": {},
     "output_type": "execute_result"
    }
   ],
   "source": [
    "df['days_in_waiting_list']"
   ]
  },
  {
   "cell_type": "code",
   "execution_count": 111,
   "id": "0dcbb3ce-90b4-4c0e-94e6-d6436b390921",
   "metadata": {},
   "outputs": [
    {
     "data": {
      "text/plain": [
       "array([  0,  50,  47,  65, 122,  75, 101, 150, 125,  14,  60,  34, 100,\n",
       "        22, 121,  61,  39,   5,   1,   8, 107,  43,  52,   2,  11, 142,\n",
       "       116,  13,  44,  97,  83,   4, 113,  18,  20, 185,  93, 109,   6,\n",
       "        37, 105, 154,  64,  99,  38,  48,  33,  77,  21,  80,  59,  40,\n",
       "        58,  89,  53,  49,  69,  87,  91,  57, 111,  79,  98,  85,  63,\n",
       "        15,   3,  41, 224,  31,  56, 187, 176,  71,  55,  96, 236, 259,\n",
       "       207, 215, 160, 120,  30,  32,  27,  62,  24, 108, 147, 379,  70,\n",
       "        35, 178, 330, 223, 174, 162, 391,  68, 193,  10,  76,  16,  28,\n",
       "         9, 165,  17,  25,  46,   7,  84, 175, 183,  23, 117,  12,  54,\n",
       "        26,  73,  45,  19,  42,  72,  81,  74, 167,  36])"
      ]
     },
     "execution_count": 111,
     "metadata": {},
     "output_type": "execute_result"
    }
   ],
   "source": [
    "df['days_in_waiting_list'].unique()"
   ]
  },
  {
   "cell_type": "code",
   "execution_count": 112,
   "id": "3be0af6c-59d3-44aa-ab27-1ec593a0bd4f",
   "metadata": {},
   "outputs": [
    {
     "data": {
      "text/plain": [
       "127"
      ]
     },
     "execution_count": 112,
     "metadata": {},
     "output_type": "execute_result"
    }
   ],
   "source": [
    "df['days_in_waiting_list'].nunique()"
   ]
  },
  {
   "cell_type": "markdown",
   "id": "608aa2f6-3a4d-48ae-bf2c-235830b6e4bb",
   "metadata": {},
   "source": [
    "## 27.customer_type\n",
    "The `customer_type` column indicates type of booking customer (e.g., transient, contract, group)."
   ]
  },
  {
   "cell_type": "code",
   "execution_count": 113,
   "id": "3a512895-eb1a-4198-be01-38206cd16a1a",
   "metadata": {},
   "outputs": [
    {
     "data": {
      "text/plain": [
       "0         Transient\n",
       "1         Transient\n",
       "2         Transient\n",
       "3         Transient\n",
       "4         Transient\n",
       "            ...    \n",
       "119385    Transient\n",
       "119386    Transient\n",
       "119387    Transient\n",
       "119388    Transient\n",
       "119389    Transient\n",
       "Name: customer_type, Length: 87011, dtype: object"
      ]
     },
     "execution_count": 113,
     "metadata": {},
     "output_type": "execute_result"
    }
   ],
   "source": [
    "df['customer_type']"
   ]
  },
  {
   "cell_type": "code",
   "execution_count": 114,
   "id": "f5a33d98-725c-45e1-9c0d-d6e01e647dc7",
   "metadata": {},
   "outputs": [
    {
     "data": {
      "text/plain": [
       "array(['Transient', 'Contract', 'Transient-Party', 'Group'], dtype=object)"
      ]
     },
     "execution_count": 114,
     "metadata": {},
     "output_type": "execute_result"
    }
   ],
   "source": [
    "df['customer_type'].unique()"
   ]
  },
  {
   "cell_type": "code",
   "execution_count": 115,
   "id": "5aec3df9-cb66-47ce-a588-7c6a3e81b645",
   "metadata": {},
   "outputs": [
    {
     "data": {
      "text/plain": [
       "4"
      ]
     },
     "execution_count": 115,
     "metadata": {},
     "output_type": "execute_result"
    }
   ],
   "source": [
    "df['customer_type'].nunique()"
   ]
  },
  {
   "cell_type": "markdown",
   "id": "08ad0c52-687f-432c-9982-14574a3464f3",
   "metadata": {},
   "source": [
    "## 28.adr\n",
    "The `adr` column indiactes average daily rate (sum of all lodging transactions divided by the total number of staying nights)."
   ]
  },
  {
   "cell_type": "code",
   "execution_count": 116,
   "id": "b7fcc6de-3f35-45d7-9044-1b7ef1fa1d40",
   "metadata": {},
   "outputs": [
    {
     "data": {
      "text/plain": [
       "0           0.00\n",
       "1           0.00\n",
       "2          75.00\n",
       "3          75.00\n",
       "4          98.00\n",
       "           ...  \n",
       "119385     96.14\n",
       "119386    225.43\n",
       "119387    157.71\n",
       "119388    104.40\n",
       "119389    151.20\n",
       "Name: adr, Length: 87011, dtype: float64"
      ]
     },
     "execution_count": 116,
     "metadata": {},
     "output_type": "execute_result"
    }
   ],
   "source": [
    "df['adr']"
   ]
  },
  {
   "cell_type": "code",
   "execution_count": 117,
   "id": "8420391a-57cf-418b-b4c0-9d80d6dc8c91",
   "metadata": {},
   "outputs": [
    {
     "data": {
      "text/plain": [
       "array([  0.  ,  75.  ,  98.  , ..., 266.75, 209.25, 157.71], shape=(8859,))"
      ]
     },
     "execution_count": 117,
     "metadata": {},
     "output_type": "execute_result"
    }
   ],
   "source": [
    "df['adr'].unique()"
   ]
  },
  {
   "cell_type": "code",
   "execution_count": 118,
   "id": "a2eea92c-2ee8-4a52-a9f8-3323e26ebbfc",
   "metadata": {},
   "outputs": [
    {
     "data": {
      "text/plain": [
       "8859"
      ]
     },
     "execution_count": 118,
     "metadata": {},
     "output_type": "execute_result"
    }
   ],
   "source": [
    "df['adr'].nunique()"
   ]
  },
  {
   "cell_type": "code",
   "execution_count": 119,
   "id": "24d1c412-61e4-4a7d-8037-319de59c222f",
   "metadata": {},
   "outputs": [
    {
     "data": {
      "text/plain": [
       "np.float64(5400.0)"
      ]
     },
     "execution_count": 119,
     "metadata": {},
     "output_type": "execute_result"
    }
   ],
   "source": [
    "df['adr'].max()"
   ]
  },
  {
   "cell_type": "code",
   "execution_count": 120,
   "id": "1191a19f-a6b0-48f9-9100-e95c3f19531a",
   "metadata": {},
   "outputs": [
    {
     "data": {
      "text/plain": [
       "np.float64(-6.38)"
      ]
     },
     "execution_count": 120,
     "metadata": {},
     "output_type": "execute_result"
    }
   ],
   "source": [
    "df['adr'].min()"
   ]
  },
  {
   "cell_type": "markdown",
   "id": "4dc8a6b5-b4e6-478b-ac6c-afc45a9d8c3d",
   "metadata": {},
   "source": [
    "## 29.required_car_parking_spaces\n",
    "The `required_car_parking_spaces` column indicates number of car parking spaces required by the customer."
   ]
  },
  {
   "cell_type": "code",
   "execution_count": 121,
   "id": "337fbbee-c202-460c-9a72-8d9fad642474",
   "metadata": {},
   "outputs": [
    {
     "data": {
      "text/plain": [
       "0         0\n",
       "1         0\n",
       "2         0\n",
       "3         0\n",
       "4         0\n",
       "         ..\n",
       "119385    0\n",
       "119386    0\n",
       "119387    0\n",
       "119388    0\n",
       "119389    0\n",
       "Name: required_car_parking_spaces, Length: 87011, dtype: int64"
      ]
     },
     "execution_count": 121,
     "metadata": {},
     "output_type": "execute_result"
    }
   ],
   "source": [
    "df['required_car_parking_spaces']"
   ]
  },
  {
   "cell_type": "code",
   "execution_count": 122,
   "id": "2d8bb5f6-5e2b-4e64-8113-be853f249185",
   "metadata": {},
   "outputs": [
    {
     "data": {
      "text/plain": [
       "array([0, 1, 2, 8, 3])"
      ]
     },
     "execution_count": 122,
     "metadata": {},
     "output_type": "execute_result"
    }
   ],
   "source": [
    "df['required_car_parking_spaces'].unique()"
   ]
  },
  {
   "cell_type": "code",
   "execution_count": 123,
   "id": "e8a0908f-50a2-4b42-ad81-87a084f5d6ab",
   "metadata": {},
   "outputs": [
    {
     "data": {
      "text/plain": [
       "5"
      ]
     },
     "execution_count": 123,
     "metadata": {},
     "output_type": "execute_result"
    }
   ],
   "source": [
    "df['required_car_parking_spaces'].nunique()"
   ]
  },
  {
   "cell_type": "markdown",
   "id": "0a6b339c-9d3d-4bca-9476-df2aa57980ac",
   "metadata": {},
   "source": [
    "## 30.total_of_special_requests\n",
    "The `total_of_special_requests` column indicates number of special requests made by the customer (e.g., late check-out, extra bed)."
   ]
  },
  {
   "cell_type": "code",
   "execution_count": 124,
   "id": "a3565f9f-f650-47d6-b35b-a00668bf68cd",
   "metadata": {},
   "outputs": [
    {
     "data": {
      "text/plain": [
       "0         0\n",
       "1         0\n",
       "2         0\n",
       "3         0\n",
       "4         1\n",
       "         ..\n",
       "119385    0\n",
       "119386    2\n",
       "119387    4\n",
       "119388    0\n",
       "119389    2\n",
       "Name: total_of_special_requests, Length: 87011, dtype: int64"
      ]
     },
     "execution_count": 124,
     "metadata": {},
     "output_type": "execute_result"
    }
   ],
   "source": [
    "df['total_of_special_requests']"
   ]
  },
  {
   "cell_type": "code",
   "execution_count": 125,
   "id": "1b3bfc34-a906-4703-8d9a-734fd0e491da",
   "metadata": {},
   "outputs": [
    {
     "data": {
      "text/plain": [
       "array([0, 1, 3, 2, 4, 5])"
      ]
     },
     "execution_count": 125,
     "metadata": {},
     "output_type": "execute_result"
    }
   ],
   "source": [
    "df['total_of_special_requests'].unique()"
   ]
  },
  {
   "cell_type": "code",
   "execution_count": 126,
   "id": "c70d5755-af5b-4d48-b296-f20212f2c95d",
   "metadata": {},
   "outputs": [
    {
     "data": {
      "text/plain": [
       "6"
      ]
     },
     "execution_count": 126,
     "metadata": {},
     "output_type": "execute_result"
    }
   ],
   "source": [
    "df['total_of_special_requests'].nunique()"
   ]
  },
  {
   "cell_type": "markdown",
   "id": "7a309440-61a4-47b0-bf90-8928300078f7",
   "metadata": {},
   "source": [
    "## 31.reservation_status\n",
    "The `reservation_status` column indicates reservation last status (e.g., checked-in, canceled)."
   ]
  },
  {
   "cell_type": "code",
   "execution_count": 127,
   "id": "36f02174-c61c-473c-a30d-6e10c79c1416",
   "metadata": {},
   "outputs": [
    {
     "data": {
      "text/plain": [
       "0         Check-Out\n",
       "1         Check-Out\n",
       "2         Check-Out\n",
       "3         Check-Out\n",
       "4         Check-Out\n",
       "            ...    \n",
       "119385    Check-Out\n",
       "119386    Check-Out\n",
       "119387    Check-Out\n",
       "119388    Check-Out\n",
       "119389    Check-Out\n",
       "Name: reservation_status, Length: 87011, dtype: object"
      ]
     },
     "execution_count": 127,
     "metadata": {},
     "output_type": "execute_result"
    }
   ],
   "source": [
    "df['reservation_status']"
   ]
  },
  {
   "cell_type": "code",
   "execution_count": 128,
   "id": "890d0790-2e64-4afd-a5ec-1c90aff0bd0f",
   "metadata": {},
   "outputs": [
    {
     "data": {
      "text/plain": [
       "array(['Check-Out', 'Canceled', 'No-Show'], dtype=object)"
      ]
     },
     "execution_count": 128,
     "metadata": {},
     "output_type": "execute_result"
    }
   ],
   "source": [
    "df['reservation_status'].unique()"
   ]
  },
  {
   "cell_type": "code",
   "execution_count": 129,
   "id": "6897ed6e-706f-4f30-b081-6ec37fa5fbb6",
   "metadata": {},
   "outputs": [
    {
     "data": {
      "text/plain": [
       "3"
      ]
     },
     "execution_count": 129,
     "metadata": {},
     "output_type": "execute_result"
    }
   ],
   "source": [
    "df['reservation_status'].nunique()"
   ]
  },
  {
   "cell_type": "markdown",
   "id": "25b28e24-d6d4-4e5c-b1fc-20d7dd79f923",
   "metadata": {},
   "source": [
    "### Remove the `reservation_status` column to prevent data redundancy as it provides additional contextual information regarding the `is_canceled` column"
   ]
  },
  {
   "cell_type": "code",
   "execution_count": 130,
   "id": "46436927-7cc5-4c59-9d39-c8d500454671",
   "metadata": {},
   "outputs": [],
   "source": [
    "df.drop('reservation_status',axis=1, inplace=True)"
   ]
  },
  {
   "cell_type": "code",
   "execution_count": 131,
   "id": "fcec4aeb-e4d5-4ded-b52c-62b819ba771a",
   "metadata": {},
   "outputs": [
    {
     "data": {
      "text/plain": [
       "Index(['hotel', 'is_canceled', 'lead_time', 'arrival_date_year',\n",
       "       'arrival_date_month', 'arrival_date_week_number',\n",
       "       'arrival_date_day_of_month', 'stays_in_weekend_nights',\n",
       "       'stays_in_week_nights', 'adults', 'children', 'babies', 'meal',\n",
       "       'country', 'market_segment', 'distribution_channel',\n",
       "       'is_repeated_guest', 'previous_cancellations',\n",
       "       'previous_bookings_not_canceled', 'reserved_room_type',\n",
       "       'assigned_room_type', 'booking_changes', 'deposit_type', 'agent',\n",
       "       'company', 'days_in_waiting_list', 'customer_type', 'adr',\n",
       "       'required_car_parking_spaces', 'total_of_special_requests',\n",
       "       'reservation_status_date'],\n",
       "      dtype='object')"
      ]
     },
     "execution_count": 131,
     "metadata": {},
     "output_type": "execute_result"
    }
   ],
   "source": [
    "df.columns"
   ]
  },
  {
   "cell_type": "markdown",
   "id": "861adb74-3b9c-4ad5-9a0a-f27900330e0c",
   "metadata": {},
   "source": [
    "## 32.reservation_status_date\n",
    "The `reservation_status_date` column indiactes date at which the last status was set."
   ]
  },
  {
   "cell_type": "code",
   "execution_count": 132,
   "id": "90b30e65-1f69-42cc-b6e5-29733c4b218b",
   "metadata": {},
   "outputs": [
    {
     "data": {
      "text/plain": [
       "0         2015-07-01\n",
       "1         2015-07-01\n",
       "2         2015-07-02\n",
       "3         2015-07-02\n",
       "4         2015-07-03\n",
       "             ...    \n",
       "119385    2017-09-06\n",
       "119386    2017-09-07\n",
       "119387    2017-09-07\n",
       "119388    2017-09-07\n",
       "119389    2017-09-07\n",
       "Name: reservation_status_date, Length: 87011, dtype: object"
      ]
     },
     "execution_count": 132,
     "metadata": {},
     "output_type": "execute_result"
    }
   ],
   "source": [
    "df['reservation_status_date']"
   ]
  },
  {
   "cell_type": "code",
   "execution_count": 133,
   "id": "65ea519c-aebf-4de2-9b6e-8022b4596acb",
   "metadata": {},
   "outputs": [
    {
     "data": {
      "text/plain": [
       "array(['2015-07-01', '2015-07-02', '2015-07-03', '2015-05-06',\n",
       "       '2015-04-22', '2015-06-23', '2015-07-05', '2015-07-06',\n",
       "       '2015-07-07', '2015-07-08', '2015-05-11', '2015-07-15',\n",
       "       '2015-07-16', '2015-05-29', '2015-05-19', '2015-06-19',\n",
       "       '2015-05-23', '2015-05-18', '2015-07-09', '2015-06-02',\n",
       "       '2015-07-13', '2015-07-04', '2015-06-29', '2015-06-16',\n",
       "       '2015-06-18', '2015-06-12', '2015-06-09', '2015-05-26',\n",
       "       '2015-07-11', '2015-07-12', '2015-07-17', '2015-04-15',\n",
       "       '2015-05-13', '2015-07-10', '2015-05-20', '2015-05-12',\n",
       "       '2015-07-14', '2015-06-17', '2015-05-01', '2015-03-30',\n",
       "       '2015-07-19', '2015-06-03', '2015-06-26', '2015-05-14',\n",
       "       '2015-07-20', '2015-05-07', '2015-05-28', '2015-04-13',\n",
       "       '2015-03-25', '2015-07-21', '2015-06-27', '2015-07-18',\n",
       "       '2015-07-23', '2015-06-08', '2015-06-22', '2015-06-24',\n",
       "       '2015-03-05', '2015-06-01', '2015-04-24', '2015-07-22',\n",
       "       '2015-05-27', '2015-04-06', '2015-04-11', '2015-07-25',\n",
       "       '2015-07-28', '2015-07-29', '2015-06-25', '2015-07-24',\n",
       "       '2015-06-05', '2015-06-30', '2015-06-13', '2015-06-11',\n",
       "       '2015-07-30', '2015-07-27', '2015-04-29', '2015-06-04',\n",
       "       '2015-07-26', '2015-08-01', '2015-08-02', '2015-06-15',\n",
       "       '2015-04-23', '2015-07-31', '2015-05-25', '2015-08-03',\n",
       "       '2015-04-17', '2015-08-04', '2015-08-06', '2015-05-15',\n",
       "       '2015-05-09', '2015-03-17', '2015-05-22', '2015-08-07',\n",
       "       '2015-04-04', '2015-08-05', '2015-08-08', '2015-08-10',\n",
       "       '2015-05-04', '2015-06-06', '2015-08-09', '2015-08-15',\n",
       "       '2015-08-11', '2015-03-28', '2015-08-14', '2015-08-12',\n",
       "       '2015-08-16', '2015-05-16', '2015-08-21', '2015-08-13',\n",
       "       '2015-08-17', '2015-04-20', '2015-08-18', '2015-08-23',\n",
       "       '2015-08-22', '2015-08-19', '2015-08-20', '2015-08-29',\n",
       "       '2015-03-31', '2015-05-30', '2015-08-25', '2015-04-14',\n",
       "       '2015-08-24', '2015-03-24', '2015-05-21', '2015-08-28',\n",
       "       '2015-08-26', '2015-08-27', '2015-08-30', '2015-08-31',\n",
       "       '2015-09-06', '2015-09-03', '2015-09-04', '2015-09-02',\n",
       "       '2015-09-01', '2015-09-05', '2015-06-20', '2015-09-07',\n",
       "       '2015-09-10', '2015-09-11', '2015-09-08', '2015-09-09',\n",
       "       '2015-09-13', '2015-09-15', '2015-04-10', '2015-01-02',\n",
       "       '2014-11-18', '2015-09-12', '2015-09-17', '2015-09-14',\n",
       "       '2015-04-07', '2015-09-19', '2015-09-16', '2015-09-20',\n",
       "       '2015-01-18', '2015-10-23', '2015-01-22', '2015-01-01',\n",
       "       '2015-09-22', '2015-09-24', '2015-09-18', '2015-09-21',\n",
       "       '2015-09-30', '2015-09-25', '2015-09-27', '2015-09-28',\n",
       "       '2015-10-12', '2015-09-29', '2015-09-23', '2015-10-01',\n",
       "       '2015-09-26', '2015-04-18', '2015-10-02', '2015-10-04',\n",
       "       '2015-10-08', '2015-10-03', '2015-10-07', '2015-10-09',\n",
       "       '2015-10-11', '2015-10-05', '2015-10-06', '2015-10-10',\n",
       "       '2015-10-14', '2015-10-15', '2015-10-18', '2015-10-13',\n",
       "       '2015-10-20', '2015-10-19', '2015-10-31', '2015-10-16',\n",
       "       '2015-10-21', '2015-10-22', '2015-10-17', '2015-10-24',\n",
       "       '2015-10-25', '2015-10-28', '2015-10-27', '2015-10-26',\n",
       "       '2015-10-30', '2015-11-05', '2015-10-29', '2015-11-03',\n",
       "       '2015-11-07', '2015-11-04', '2015-11-01', '2015-11-02',\n",
       "       '2015-11-17', '2015-11-06', '2015-11-10', '2015-11-08',\n",
       "       '2015-11-09', '2015-11-15', '2015-11-16', '2015-11-11',\n",
       "       '2015-11-12', '2015-11-14', '2015-11-13', '2015-11-18',\n",
       "       '2015-11-22', '2015-11-19', '2015-11-21', '2015-11-20',\n",
       "       '2015-11-24', '2015-11-25', '2015-11-23', '2015-11-28',\n",
       "       '2015-11-26', '2015-11-27', '2015-11-29', '2015-12-04',\n",
       "       '2015-12-01', '2015-12-06', '2015-12-08', '2015-12-02',\n",
       "       '2015-12-03', '2015-12-31', '2015-12-05', '2015-12-10',\n",
       "       '2015-12-17', '2015-11-30', '2015-12-12', '2015-12-07',\n",
       "       '2016-01-05', '2015-12-11', '2015-12-13', '2015-12-15',\n",
       "       '2015-12-16', '2015-12-19', '2015-12-18', '2015-12-26',\n",
       "       '2015-12-27', '2015-12-22', '2015-12-23', '2015-12-24',\n",
       "       '2015-12-29', '2015-12-28', '2015-12-20', '2015-12-30',\n",
       "       '2016-01-02', '2016-01-01', '2015-12-25', '2016-01-03',\n",
       "       '2016-01-04', '2016-01-11', '2016-01-07', '2015-12-21',\n",
       "       '2016-01-09', '2016-01-10', '2016-01-08', '2016-01-06',\n",
       "       '2016-01-12', '2016-01-13', '2016-01-23', '2016-02-09',\n",
       "       '2016-01-15', '2016-01-16', '2016-01-17', '2016-01-19',\n",
       "       '2016-01-18', '2016-01-21', '2016-01-24', '2016-01-22',\n",
       "       '2016-01-29', '2016-01-27', '2016-01-25', '2016-03-08',\n",
       "       '2016-01-26', '2016-01-20', '2016-01-30', '2016-02-01',\n",
       "       '2016-02-02', '2016-02-08', '2016-02-07', '2016-01-28',\n",
       "       '2016-02-05', '2016-02-03', '2016-02-13', '2016-02-10',\n",
       "       '2016-02-04', '2016-02-12', '2016-02-11', '2016-02-16',\n",
       "       '2016-02-14', '2016-02-15', '2016-02-20', '2016-02-06',\n",
       "       '2016-01-14', '2016-02-17', '2016-02-21', '2016-02-24',\n",
       "       '2016-02-25', '2016-02-19', '2016-02-18', '2016-02-26',\n",
       "       '2016-02-23', '2016-03-05', '2016-02-22', '2016-02-27',\n",
       "       '2016-03-03', '2016-03-24', '2016-03-04', '2016-02-29',\n",
       "       '2016-03-01', '2016-03-02', '2016-03-30', '2016-03-07',\n",
       "       '2016-03-14', '2016-03-21', '2016-03-09', '2016-03-12',\n",
       "       '2016-03-22', '2016-03-10', '2016-03-11', '2016-03-20',\n",
       "       '2016-03-15', '2016-03-17', '2016-03-16', '2016-03-19',\n",
       "       '2016-03-27', '2016-03-18', '2016-03-26', '2016-03-31',\n",
       "       '2016-03-28', '2016-03-29', '2016-04-01', '2016-03-23',\n",
       "       '2016-04-02', '2016-03-25', '2016-03-13', '2016-04-04',\n",
       "       '2016-04-03', '2016-04-05', '2016-04-08', '2016-04-06',\n",
       "       '2016-04-09', '2016-04-12', '2016-04-16', '2016-04-17',\n",
       "       '2016-04-27', '2016-04-14', '2016-04-18', '2016-04-21',\n",
       "       '2016-04-19', '2016-04-20', '2016-04-10', '2016-04-13',\n",
       "       '2016-04-11', '2016-04-07', '2016-04-15', '2016-04-22',\n",
       "       '2016-04-23', '2016-04-26', '2016-04-28', '2016-04-24',\n",
       "       '2016-04-25', '2016-04-29', '2016-04-30', '2016-05-01',\n",
       "       '2016-05-10', '2016-05-02', '2016-05-07', '2016-05-08',\n",
       "       '2016-05-12', '2016-05-04', '2016-05-06', '2016-05-03',\n",
       "       '2016-05-09', '2016-05-05', '2016-05-13', '2016-05-14',\n",
       "       '2016-05-18', '2016-05-19', '2016-05-15', '2016-05-16',\n",
       "       '2016-05-11', '2016-05-21', '2016-05-22', '2016-05-20',\n",
       "       '2016-05-24', '2016-05-25', '2016-05-26', '2016-05-23',\n",
       "       '2016-05-27', '2016-05-17', '2016-05-29', '2016-05-28',\n",
       "       '2016-05-30', '2016-05-31', '2016-06-01', '2016-06-03',\n",
       "       '2016-06-08', '2016-06-02', '2016-06-05', '2016-06-06',\n",
       "       '2016-06-13', '2016-06-07', '2016-06-10', '2016-06-11',\n",
       "       '2016-06-16', '2016-06-12', '2016-06-14', '2016-06-17',\n",
       "       '2016-06-04', '2016-06-18', '2016-06-21', '2016-06-09',\n",
       "       '2016-06-24', '2016-06-20', '2016-06-25', '2016-06-22',\n",
       "       '2016-06-26', '2016-06-23', '2016-07-01', '2016-06-15',\n",
       "       '2016-06-28', '2016-07-02', '2016-06-19', '2016-06-27',\n",
       "       '2016-07-04', '2016-06-30', '2016-07-05', '2016-07-08',\n",
       "       '2016-07-09', '2016-07-07', '2016-07-12', '2016-06-29',\n",
       "       '2016-07-10', '2016-07-15', '2016-07-03', '2016-07-16',\n",
       "       '2016-07-14', '2016-07-18', '2016-07-13', '2016-07-06',\n",
       "       '2016-07-20', '2016-07-21', '2016-07-23', '2016-07-19',\n",
       "       '2016-07-11', '2016-07-28', '2016-07-17', '2016-07-25',\n",
       "       '2016-07-22', '2016-07-29', '2016-08-03', '2016-08-02',\n",
       "       '2016-08-04', '2016-08-08', '2016-08-10', '2016-08-01',\n",
       "       '2016-08-06', '2016-03-06', '2016-08-05', '2016-07-26',\n",
       "       '2016-08-07', '2016-07-30', '2016-07-24', '2016-08-12',\n",
       "       '2016-07-27', '2016-08-13', '2016-08-18', '2016-08-16',\n",
       "       '2016-08-15', '2016-08-17', '2016-08-11', '2016-07-31',\n",
       "       '2016-08-19', '2016-09-01', '2016-08-23', '2016-08-26',\n",
       "       '2016-08-20', '2016-08-21', '2016-09-04', '2016-08-22',\n",
       "       '2016-08-27', '2016-08-25', '2016-08-09', '2016-09-05',\n",
       "       '2016-08-24', '2016-09-10', '2016-08-29', '2016-09-09',\n",
       "       '2016-08-30', '2016-09-13', '2016-08-31', '2016-09-14',\n",
       "       '2016-09-12', '2016-09-15', '2016-08-14', '2016-09-02',\n",
       "       '2016-09-08', '2016-09-19', '2016-09-16', '2016-09-07',\n",
       "       '2016-09-21', '2016-09-06', '2016-09-22', '2016-09-17',\n",
       "       '2016-09-20', '2016-09-03', '2016-09-26', '2016-09-23',\n",
       "       '2016-09-18', '2016-09-29', '2016-10-02', '2016-10-01',\n",
       "       '2016-09-27', '2016-09-25', '2016-10-05', '2016-09-11',\n",
       "       '2016-09-30', '2016-10-09', '2016-10-03', '2016-10-06',\n",
       "       '2016-10-11', '2016-09-24', '2016-10-13', '2016-09-28',\n",
       "       '2016-10-08', '2016-10-07', '2016-10-16', '2016-08-28',\n",
       "       '2016-10-17', '2016-10-18', '2016-10-10', '2016-10-04',\n",
       "       '2016-10-15', '2016-10-19', '2016-10-21', '2016-10-12',\n",
       "       '2016-10-24', '2016-10-26', '2016-10-23', '2016-10-20',\n",
       "       '2016-10-25', '2016-10-27', '2016-10-28', '2016-10-30',\n",
       "       '2016-10-29', '2016-11-01', '2016-11-04', '2016-10-14',\n",
       "       '2016-11-07', '2016-11-03', '2016-11-10', '2016-11-14',\n",
       "       '2016-11-02', '2016-10-31', '2016-11-11', '2016-11-08',\n",
       "       '2016-11-05', '2016-11-25', '2016-11-09', '2016-11-20',\n",
       "       '2016-10-22', '2016-11-22', '2016-11-16', '2016-11-23',\n",
       "       '2016-11-17', '2016-11-06', '2016-11-15', '2016-11-13',\n",
       "       '2016-11-12', '2016-11-21', '2016-11-27', '2016-11-19',\n",
       "       '2016-11-30', '2016-11-18', '2016-12-02', '2016-12-04',\n",
       "       '2016-11-29', '2016-12-07', '2016-11-28', '2016-12-03',\n",
       "       '2016-12-06', '2016-11-24', '2016-12-08', '2016-12-05',\n",
       "       '2016-12-10', '2016-12-13', '2016-12-14', '2016-12-16',\n",
       "       '2016-12-15', '2016-12-17', '2016-12-19', '2016-12-21',\n",
       "       '2016-12-20', '2016-12-22', '2016-12-23', '2016-12-24',\n",
       "       '2016-12-01', '2016-12-27', '2016-12-29', '2016-12-30',\n",
       "       '2016-12-12', '2017-01-02', '2016-12-11', '2017-01-03',\n",
       "       '2017-01-04', '2017-01-01', '2016-12-26', '2017-01-06',\n",
       "       '2016-12-28', '2016-12-18', '2017-01-10', '2017-01-11',\n",
       "       '2017-01-07', '2017-01-12', '2017-01-16', '2017-01-14',\n",
       "       '2017-01-13', '2017-01-05', '2017-01-17', '2017-01-20',\n",
       "       '2016-12-09', '2017-01-26', '2016-12-31', '2017-01-23',\n",
       "       '2017-01-27', '2017-01-28', '2017-01-19', '2017-01-25',\n",
       "       '2017-01-24', '2017-01-29', '2017-01-18', '2016-12-25',\n",
       "       '2017-01-15', '2017-01-21', '2017-02-01', '2017-02-02',\n",
       "       '2017-01-31', '2017-02-03', '2017-02-04', '2017-02-06',\n",
       "       '2017-02-07', '2017-02-08', '2017-01-30', '2017-02-09',\n",
       "       '2017-01-09', '2017-02-11', '2017-02-10', '2017-02-12',\n",
       "       '2017-02-13', '2017-02-14', '2017-02-16', '2017-02-17',\n",
       "       '2017-02-18', '2017-02-19', '2017-02-20', '2017-02-15',\n",
       "       '2017-02-21', '2017-02-22', '2017-02-26', '2017-02-23',\n",
       "       '2017-02-24', '2017-02-25', '2017-02-28', '2017-03-05',\n",
       "       '2017-02-27', '2017-03-03', '2017-03-06', '2017-03-02',\n",
       "       '2017-03-08', '2017-03-09', '2017-03-10', '2017-03-07',\n",
       "       '2017-03-12', '2017-03-13', '2017-03-14', '2017-03-01',\n",
       "       '2017-03-18', '2017-03-17', '2017-03-24', '2017-03-22',\n",
       "       '2017-03-26', '2017-03-27', '2017-03-11', '2017-03-28',\n",
       "       '2017-03-29', '2017-03-30', '2017-03-31', '2017-03-19',\n",
       "       '2017-01-22', '2017-04-02', '2017-03-20', '2017-04-03',\n",
       "       '2017-01-08', '2017-03-23', '2017-04-05', '2017-02-05',\n",
       "       '2017-04-04', '2017-03-15', '2017-04-07', '2017-03-25',\n",
       "       '2017-04-08', '2017-04-06', '2017-03-21', '2017-04-10',\n",
       "       '2017-04-01', '2017-04-11', '2017-04-13', '2017-04-15',\n",
       "       '2017-04-12', '2017-03-04', '2017-04-19', '2017-04-22',\n",
       "       '2017-04-20', '2017-05-02', '2017-04-09', '2017-04-23',\n",
       "       '2017-04-24', '2017-04-16', '2017-04-28', '2017-04-18',\n",
       "       '2017-04-26', '2017-04-25', '2017-04-17', '2017-04-21',\n",
       "       '2017-05-03', '2017-05-04', '2017-03-16', '2017-05-05',\n",
       "       '2017-04-29', '2017-04-14', '2017-05-08', '2017-04-27',\n",
       "       '2017-05-11', '2017-05-01', '2017-05-10', '2017-05-13',\n",
       "       '2017-05-06', '2017-05-14', '2017-05-16', '2017-04-30',\n",
       "       '2017-05-15', '2017-05-07', '2017-05-09', '2017-05-17',\n",
       "       '2017-05-21', '2017-05-12', '2017-05-22', '2017-05-24',\n",
       "       '2017-05-23', '2017-05-25', '2017-05-26', '2017-05-28',\n",
       "       '2017-05-27', '2017-05-29', '2017-05-19', '2017-05-31',\n",
       "       '2017-05-20', '2017-06-01', '2017-05-30', '2017-06-02',\n",
       "       '2016-11-26', '2017-06-04', '2017-06-05', '2017-06-06',\n",
       "       '2017-06-07', '2017-05-18', '2017-06-09', '2017-06-10',\n",
       "       '2017-06-11', '2017-06-12', '2017-06-14', '2017-06-08',\n",
       "       '2017-06-16', '2017-06-13', '2017-06-03', '2017-06-24',\n",
       "       '2017-06-20', '2017-06-19', '2017-06-21', '2017-06-26',\n",
       "       '2017-06-27', '2017-06-22', '2017-06-28', '2017-06-15',\n",
       "       '2017-06-29', '2017-06-30', '2017-06-18', '2017-07-04',\n",
       "       '2017-07-08', '2017-07-05', '2017-07-03', '2017-07-07',\n",
       "       '2017-07-01', '2017-07-06', '2017-07-11', '2017-07-12',\n",
       "       '2017-06-23', '2017-07-13', '2017-07-02', '2017-07-10',\n",
       "       '2017-07-14', '2017-07-15', '2017-07-16', '2017-07-18',\n",
       "       '2017-07-17', '2017-07-19', '2017-07-20', '2017-07-21',\n",
       "       '2017-06-25', '2017-06-17', '2017-07-24', '2017-07-26',\n",
       "       '2017-07-09', '2017-07-27', '2017-07-28', '2017-07-31',\n",
       "       '2017-07-29', '2017-07-22', '2017-08-02', '2017-08-01',\n",
       "       '2017-08-03', '2017-08-04', '2017-07-25', '2017-07-23',\n",
       "       '2017-08-09', '2017-08-10', '2017-07-30', '2017-08-07',\n",
       "       '2017-08-13', '2017-08-05', '2017-08-14', '2017-08-08',\n",
       "       '2017-08-16', '2017-08-17', '2017-08-15', '2017-08-18',\n",
       "       '2017-08-20', '2017-08-22', '2017-08-06', '2017-08-25',\n",
       "       '2017-08-26', '2017-08-23', '2017-08-11', '2017-08-27',\n",
       "       '2017-08-21', '2017-08-29', '2017-08-31', '2017-08-12',\n",
       "       '2017-08-19', '2016-01-31', '2017-09-01', '2017-08-28',\n",
       "       '2015-04-03', '2015-01-21', '2015-01-28', '2015-01-29',\n",
       "       '2015-01-30', '2015-02-02', '2015-02-05', '2015-02-06',\n",
       "       '2015-02-09', '2015-02-10', '2015-02-11', '2015-02-12',\n",
       "       '2015-02-19', '2015-02-20', '2015-02-23', '2015-02-24',\n",
       "       '2015-02-25', '2015-02-26', '2015-02-27', '2015-03-03',\n",
       "       '2015-03-04', '2015-03-06', '2015-03-09', '2015-03-11',\n",
       "       '2015-03-12', '2015-03-18', '2015-04-02', '2015-06-14',\n",
       "       '2015-04-08', '2015-04-16', '2015-04-25', '2015-04-28',\n",
       "       '2015-05-08', '2017-09-06', '2016-02-28', '2015-12-09',\n",
       "       '2015-12-14', '2017-09-09', '2017-09-02', '2017-08-24',\n",
       "       '2017-08-30', '2017-09-03', '2017-09-04', '2017-09-05',\n",
       "       '2017-09-07', '2017-09-08', '2017-09-10', '2017-09-12',\n",
       "       '2017-09-14', '2015-04-30', '2015-04-21', '2015-04-05',\n",
       "       '2015-03-13', '2015-05-05', '2015-03-29', '2015-06-10',\n",
       "       '2015-04-27', '2014-10-17', '2015-01-20', '2015-02-17',\n",
       "       '2015-03-10', '2015-03-23'], dtype=object)"
      ]
     },
     "execution_count": 133,
     "metadata": {},
     "output_type": "execute_result"
    }
   ],
   "source": [
    "df['reservation_status_date'].unique()"
   ]
  },
  {
   "cell_type": "code",
   "execution_count": 134,
   "id": "5ea24919-fb22-4649-b34e-98764506b73f",
   "metadata": {},
   "outputs": [
    {
     "data": {
      "text/plain": [
       "926"
      ]
     },
     "execution_count": 134,
     "metadata": {},
     "output_type": "execute_result"
    }
   ],
   "source": [
    "df['reservation_status_date'].nunique()"
   ]
  },
  {
   "cell_type": "code",
   "execution_count": 135,
   "id": "befd9cf3-50d8-434f-bbbf-051a20c16376",
   "metadata": {},
   "outputs": [],
   "source": [
    "df['reservation_status_date'] = pd.to_datetime(df['reservation_status_date'])"
   ]
  },
  {
   "cell_type": "code",
   "execution_count": 136,
   "id": "445ef980-5cff-4fa9-8824-ccd8230193c1",
   "metadata": {},
   "outputs": [
    {
     "data": {
      "text/plain": [
       "0        2015-07-01\n",
       "1        2015-07-01\n",
       "2        2015-07-02\n",
       "3        2015-07-02\n",
       "4        2015-07-03\n",
       "            ...    \n",
       "119385   2017-09-06\n",
       "119386   2017-09-07\n",
       "119387   2017-09-07\n",
       "119388   2017-09-07\n",
       "119389   2017-09-07\n",
       "Name: reservation_status_date, Length: 87011, dtype: datetime64[ns]"
      ]
     },
     "execution_count": 136,
     "metadata": {},
     "output_type": "execute_result"
    }
   ],
   "source": [
    "df['reservation_status_date']"
   ]
  },
  {
   "cell_type": "markdown",
   "id": "aabb1e4e-7334-4f80-89d3-956f1965daae",
   "metadata": {},
   "source": [
    "## Exploring the data"
   ]
  },
  {
   "cell_type": "markdown",
   "id": "e80434e8-1cc4-48bf-b5b5-dcfb1a8336a5",
   "metadata": {},
   "source": [
    "### Plot 1 : Which type of hotel is most frequently chosen by customers?(Univariate analysis)"
   ]
  },
  {
   "cell_type": "code",
   "execution_count": 137,
   "id": "94f7fb2e-7439-4d6b-b696-582cf935e83f",
   "metadata": {},
   "outputs": [
    {
     "name": "stdout",
     "output_type": "stream",
     "text": [
      "Hotel Type Frequencies:\n",
      "hotel\n",
      "City Hotel      53055\n",
      "Resort Hotel    33956\n",
      "Name: count, dtype: int64\n",
      "\n",
      "Most frequently chosen hotel type: City Hotel with 53055 bookings.\n"
     ]
    },
    {
     "data": {
      "image/png": "[encoded data removed]",
      "text/plain": [
       "<Figure size 800x500 with 1 Axes>"
      ]
     },
     "metadata": {},
     "output_type": "display_data"
    }
   ],
   "source": [
    "# Count the occurrences of each hotel type\n",
    "hotel_counts = df['hotel'].value_counts()\n",
    "\n",
    "# Get the most frequently chosen hotel type\n",
    "most_frequent_hotel = hotel_counts.index[0]\n",
    "most_frequent_hotel_count = hotel_counts.iloc[0]\n",
    "\n",
    "print(\"Hotel Type Frequencies:\")\n",
    "print(hotel_counts)\n",
    "print(f\"\\nMost frequently chosen hotel type: {most_frequent_hotel} with {most_frequent_hotel_count} bookings.\")\n",
    "\n",
    "# Plot the distribution of hotel types\n",
    "plt.figure(figsize=(8, 5))\n",
    "sns.countplot(x='hotel', data=df, order=df['hotel'].value_counts().index)\n",
    "plt.title('Frequency of Hotel Types Chosen by Customers')\n",
    "plt.xlabel('Hotel Type')\n",
    "plt.ylabel('Number of Bookings')\n",
    "plt.show()"
   ]
  },
  {
   "cell_type": "markdown",
   "id": "d429c0aa-24bd-457a-a4eb-2a662abe4034",
   "metadata": {},
   "source": [
    "The results revealed that the majority of customers prefer City Hotels over Resort Hotels.\n",
    "##### City Hotel:\n",
    "- Located in urban areas, catering primarily to business travelers with essential amenities like Wi-Fi and meeting rooms.\n",
    "##### Resort Hotel:\n",
    "- Situated in vacation destinations, offering extensive recreational facilities for leisure travelers."
   ]
  },
  {
   "cell_type": "markdown",
   "id": "42f7fe3f-041d-4bcb-9f72-6830e950ecbf",
   "metadata": {},
   "source": [
    "### Plot 2 : How does the distribution of guest arrivals vary across different seasons? Are there certain months when arrivals tend to be higher or lower?(Univariate analysis)"
   ]
  },
  {
   "cell_type": "code",
   "execution_count": 138,
   "id": "2df9e562-61aa-4c68-bf8c-218fcfb67268",
   "metadata": {},
   "outputs": [
    {
     "data": {
      "image/png": "[encoded data removed]",
      "text/plain": [
       "<Figure size 1200x600 with 1 Axes>"
      ]
     },
     "metadata": {},
     "output_type": "display_data"
    }
   ],
   "source": [
    "month_order = [\n",
    "    'January', 'February', 'March', 'April', 'May', 'June',\n",
    "    'July', 'August', 'September', 'October', 'November', 'December'\n",
    "]\n",
    "\n",
    "monthly_arrivals = df['arrival_date_month'].value_counts().reindex(month_order)\n",
    "\n",
    "plt.figure(figsize=(12, 6))\n",
    "sns.barplot(x=monthly_arrivals.index, y=monthly_arrivals.values, hue=monthly_arrivals.index, palette='viridis', legend=False)\n",
    "plt.title('Distribution of Guest Arrivals Across Months')\n",
    "plt.xlabel('Month')\n",
    "plt.ylabel('Number of Guest Arrivals')\n",
    "plt.xticks(rotation=45, ha='right')\n",
    "plt.show()"
   ]
  },
  {
   "cell_type": "markdown",
   "id": "ec0e7262-4bce-4745-b257-60e96da4795a",
   "metadata": {},
   "source": [
    "##### Months with the highest guest arrivals:\n",
    "\n",
    "- July\n",
    "- August\n",
    "\n",
    "##### Months with the lowest guest arrivals:\n",
    "\n",
    "- January\n",
    "\n",
    "\n",
    "With this distribution, it appears that summer and autumn months (from March to October) have the highest number of guest arrivals, while winter months (January, February, November and December) have the lowest number of guest arrivals."
   ]
  },
  {
   "cell_type": "markdown",
   "id": "de34cc61-f252-46e9-8278-8dfd01f9177f",
   "metadata": {},
   "source": [
    "###  Plot 3 : Patterns in the length of guests(Univariate analysis)"
   ]
  },
  {
   "cell_type": "code",
   "execution_count": 145,
   "id": "12466059-fed6-42da-9150-48acfaa3499c",
   "metadata": {},
   "outputs": [
    {
     "data": {
      "image/png": "[encoded data removed]",
      "text/plain": [
       "<Figure size 1000x600 with 1 Axes>"
      ]
     },
     "metadata": {},
     "output_type": "display_data"
    }
   ],
   "source": [
    "df['stay_type'] = df.apply(lambda row: 'Weekend' if row['stays_in_weekend_nights'] > 0 else 'Weekday', axis=1)\n",
    "plt.figure(figsize=(10, 6))\n",
    "sns.countplot(data=df, x='stay_type', hue='hotel', palette=[\"gold\", \"purple\"])\n",
    "plt.title('Guest Stays Based on Weekend vs. Weekday by Hotel Type')\n",
    "plt.xlabel('Stay Type')\n",
    "plt.ylabel('Number of Bookings')\n",
    "plt.legend(title='Hotel Type')\n",
    "plt.show()"
   ]
  },
  {
   "cell_type": "markdown",
   "id": "d56b0423-1430-4231-b758-9145493b8530",
   "metadata": {},
   "source": [
    "Customers prefer shorter weekend getaways (1-2 nights)"
   ]
  },
  {
   "cell_type": "markdown",
   "id": "29048541-72f1-4ab1-a409-5891faaf4979",
   "metadata": {},
   "source": [
    "### Plot 4 : Distribution of Customer Types(Univariate Analysis)"
   ]
  },
  {
   "cell_type": "code",
   "execution_count": 140,
   "id": "b889149c-0c24-40f4-aa00-86df11132223",
   "metadata": {},
   "outputs": [
    {
     "data": {
      "image/png": "[encoded data removed]",
      "text/plain": [
       "<Figure size 1000x600 with 1 Axes>"
      ]
     },
     "metadata": {},
     "output_type": "display_data"
    }
   ],
   "source": [
    "plt.figure(figsize=(10, 6))\n",
    "sns.countplot(x='customer_type', data=df, palette='viridis', order=df['customer_type'].value_counts().index,hue='customer_type',legend=False)\n",
    "plt.title('Distribution of Customer Types')\n",
    "plt.xlabel('Customer Type')\n",
    "plt.ylabel('Number of Bookings')\n",
    "plt.show()\n"
   ]
  },
  {
   "cell_type": "markdown",
   "id": "0ce670f5-f8e1-43c8-97c4-549620573333",
   "metadata": {},
   "source": [
    "Most of the hotel's business comes from 'Transient' customers (regular, individual travelers). Other types like 'Transient-Party', 'Contract', and 'Group' bookings happen much less often."
   ]
  },
  {
   "cell_type": "markdown",
   "id": "ee2a7dc8-c35d-45f8-9677-aff77ad80565",
   "metadata": {},
   "source": [
    "### Plot 5 : Booking Changes vs. Is Canceled (Bivariate analysis)"
   ]
  },
  {
   "cell_type": "code",
   "execution_count": 141,
   "id": "e3a5fdcd-fe1d-45d0-b840-2569625944ab",
   "metadata": {},
   "outputs": [
    {
     "data": {
      "image/png": "[encoded data removed]",
      "text/plain": [
       "<Figure size 1000x600 with 1 Axes>"
      ]
     },
     "metadata": {},
     "output_type": "display_data"
    }
   ],
   "source": [
    "plt.figure(figsize=(10, 6))\n",
    "sns.barplot(x='booking_changes', y='is_canceled', data=df,errorbar=None, palette='plasma',hue='booking_changes',legend=False)\n",
    "plt.title('Cancellation Rate by Number of Booking Changes')\n",
    "plt.xlabel('Number of Booking Changes')\n",
    "plt.ylabel('Cancellation Rate')\n",
    "plt.show()"
   ]
  },
  {
   "cell_type": "markdown",
   "id": "4eef2fbb-6085-447d-b437-6215884e25e8",
   "metadata": {},
   "source": [
    "When customers make a few changes to their hotel booking, they're actually less likely to cancel. It seems they're just fine-tuning their plans.\n",
    "\n",
    "However, if a booking gets changed many times (4 or more), it becomes a much higher risk for cancellation. This likely means the customer's plans are unstable."
   ]
  },
  {
   "cell_type": "markdown",
   "id": "a7466165-68bb-405d-8bf2-df5f3ecec897",
   "metadata": {},
   "source": [
    "### Plot 6 : Total Stays vs. Hotel Type(Bivariate analysis)"
   ]
  },
  {
   "cell_type": "code",
   "execution_count": 142,
   "id": "510e4120-95a3-4753-ac47-a1c44566df6f",
   "metadata": {},
   "outputs": [
    {
     "data": {
      "image/png": "[encoded data removed]",
      "text/plain": [
       "<Figure size 1000x600 with 1 Axes>"
      ]
     },
     "metadata": {},
     "output_type": "display_data"
    }
   ],
   "source": [
    "df['total_stays'] = df['stays_in_weekend_nights'] + df['stays_in_week_nights']\n",
    "\n",
    "# Set style for plots\n",
    "sns.set_style(\"whitegrid\")\n",
    "\n",
    "plt.figure(figsize=(10, 6))\n",
    "# Using a box plot to show the distribution of total stays for each hotel type\n",
    "sns.boxplot(x='hotel', y='total_stays', data=df, palette='coolwarm',hue='hotel',legend=False)\n",
    "plt.title('Distribution of Total Stays by Hotel Type')\n",
    "plt.xlabel('Hotel Type')\n",
    "plt.ylabel('Total Nights Stayed')\n",
    "plt.ylim(0, 15) # Limiting y-axis for better visualization of common stay durations\n",
    "plt.show()"
   ]
  },
  {
   "cell_type": "markdown",
   "id": "3c966af7-baa3-45e0-b207-99e072b54860",
   "metadata": {},
   "source": [
    "- Resort Hotels are for longer trips. People tend to stay there for a whole week or more.\n",
    "- City Hotels are for shorter visits. People usually stay there for just a few nights.\n",
    "##### This means resorts are for vacations, and city hotels are more for quick trips or business.\n",
    "\n",
    "Individual data points that fall unusually far outside the typical range of stays for that hotel type. For example:\n",
    "\n",
    "- For City Hotels, you see many circles above the box. This means there are quite a few bookings at City Hotels that are much longer than the average short stay, like someone staying for 8, 10, or even 14 nights, which is uncommon for a City Hotel but still happens.\n",
    "- For Resort Hotels, you see some circles too, indicating some very long stays beyond the typical upper range."
   ]
  },
  {
   "cell_type": "markdown",
   "id": "8b92874b-0c50-46ab-be0c-8fabc82c1a03",
   "metadata": {},
   "source": [
    "### Plot 7 : Hotel Type vs. Average Daily Rate (ADR) (Bivariate Analysis)"
   ]
  },
  {
   "cell_type": "code",
   "execution_count": 143,
   "id": "3f99f452-55e7-4656-95ff-c43ac5d9a57e",
   "metadata": {},
   "outputs": [
    {
     "data": {
      "image/png": "[encoded data removed]",
      "text/plain": [
       "<Figure size 1000x600 with 1 Axes>"
      ]
     },
     "metadata": {},
     "output_type": "display_data"
    }
   ],
   "source": [
    "df_eda_biv = df.copy()\n",
    "df_eda_biv = df_eda_biv[df_eda_biv['adr'] < 500] # Cap ADR at a reasonable maximum for visualization clarity\n",
    "df_eda_biv = df_eda_biv[df_eda_biv['adr'] > 0]    # Exclude ADRs of 0, which are often placeholders or errors\n",
    "\n",
    "# Set style for plots\n",
    "sns.set_style(\"whitegrid\")\n",
    "plt.rcParams['font.size'] = 12\n",
    "\n",
    "plt.figure(figsize=(10, 6))\n",
    "sns.boxplot(x='hotel', y='adr', data=df_eda_biv, palette='pastel',hue='hotel',legend=False)\n",
    "plt.title('Average Daily Rate (ADR) by Hotel Type')\n",
    "plt.xlabel('Hotel Type')\n",
    "plt.ylabel('Average Daily Rate (ADR)')\n",
    "plt.show()\n",
    "\n"
   ]
  },
  {
   "cell_type": "markdown",
   "id": "8e3bd81b-38b1-4e49-a786-b0c1b759c88e",
   "metadata": {},
   "source": [
    "- City Hotels generally have higher and more varied prices per night.\n",
    "- Resort Hotels usually have lower and more consistent prices per night."
   ]
  },
  {
   "cell_type": "markdown",
   "id": "98925820-3e4d-495a-8109-feb835420d31",
   "metadata": {},
   "source": [
    "### Plot 8 : Total Guests vs. Total Stays by Hotel Type and Cancellation Status (Multivariate analysis)"
   ]
  },
  {
   "cell_type": "code",
   "execution_count": 144,
   "id": "097c793b-5c31-4164-9476-e94b78b528e2",
   "metadata": {},
   "outputs": [
    {
     "data": {
      "text/plain": [
       "<Figure size 1500x800 with 0 Axes>"
      ]
     },
     "metadata": {},
     "output_type": "display_data"
    },
    {
     "data": {
      "image/png": "[encoded data removed]",
      "text/plain": [
       "<Figure size 1661.08x600 with 2 Axes>"
      ]
     },
     "metadata": {},
     "output_type": "display_data"
    }
   ],
   "source": [
    "df['total_guests'] = df['adults'] + df['children'] + df['babies']\n",
    "\n",
    "# Clean 'total_guests': remove rows where total_guests is 0 (unrealistic booking)\n",
    "df = df[df['total_guests'] > 0]\n",
    "\n",
    "# Set overall plot style\n",
    "sns.set_style(\"whitegrid\")\n",
    "\n",
    "# Using seaborn.relplot to create faceted scatter plots for each hotel type.\n",
    "# Points will be colored by cancellation status.\n",
    "plt.figure(figsize=(15, 8)) # This might be overridden by relplot's internal sizing\n",
    "g3 = sns.relplot(\n",
    "    data=df,\n",
    "    x='total_guests',\n",
    "    y='total_stays',\n",
    "    col='hotel',              # Create separate columns for each hotel type\n",
    "    hue='is_canceled',        # Color points based on cancellation status\n",
    "    palette={0: 'darkgreen', 1: 'darkred'}, # Distinct colors\n",
    "    kind='scatter',           # Use a scatter plot\n",
    "    height=6, aspect=1.3,     # Adjust facet size\n",
    "    alpha=0.5,                # Set transparency for better visibility of overlapping points\n",
    "    s=30                      # Size of the scatter points\n",
    ")\n",
    "\n",
    "# Set titles and labels\n",
    "g3.set_axis_labels(\"Total Guests\", \"Total Nights Stayed\")\n",
    "g3.set_titles(col_template=\"{col_name}\")\n",
    "g3._legend.set_title(\"Canceled\")\n",
    "for t, l in zip(g3._legend.texts, [\"No\", \"Yes\"]): t.set_text(l) # Rename legend labels\n",
    "plt.suptitle('Total Stays vs. Total Guests by Hotel Type and Cancellation Status', y=1.02, fontsize=16) # Overall title\n",
    "plt.tight_layout(rect=[0, 0, 1, 0.98]) # Adjust layout\n",
    "plt.show()"
   ]
  },
  {
   "cell_type": "markdown",
   "id": "c22a2dae-ea39-482a-a1c9-f19f3228f22f",
   "metadata": {},
   "source": [
    "- City Hotels are mainly for short stays with few people.\n",
    "- Resort Hotels are for longer stays with more people.\n",
    "##### Cancellations happen in both types of hotels, for all kinds of guest numbers and stay lengths that are normal for them. So, just knowing how many guests there are or how long they're staying isn't the main reason a booking gets canceled."
   ]
  },
  {
   "cell_type": "markdown",
   "id": "6682752d-9676-4132-a92c-e943e3dac9e9",
   "metadata": {},
   "source": [
    "### Final insights & conclusion\n",
    "\n",
    "- City Hotels get  more bookings than Resort Hotels.\n",
    "\n",
    "- But Resort Hotels are for longer vacations, while City Hotels are for short trips (like business or quick getaways).\n",
    "\n",
    "- Summer is the busiest time for both bookings and cancellations.\n",
    "\n",
    "- The number of guests or how long they stay isn't the main reason a booking gets canceled. Other factors, like booking early or changing the booking often, are more important for predicting cancellations.\n",
    "    \n",
    "- Few booking changes (1-3) can mean the guest is actually less likely to cancel – they're just finalizing plans.\n",
    "\n",
    "- But lots of changes (4+) are a big red flag; these bookings are very likely to be canceled.\n",
    "\n",
    "#### By performing EDA, hotels can gain actionable insights. For this dataset, it suggests that hotels should pay close attention to bookings made far in advance or those with many modifications, as these carry a higher risk of cancellation. Understanding the different booking behaviors for City versus Resort hotels, along with seasonal patterns, can help hotels optimize their pricing strategies and reduce the number of empty rooms."
   ]
  }
 ],
 "metadata": {
  "kernelspec": {
   "display_name": "Python 3 (ipykernel)",
   "language": "python",
   "name": "python3"
  },
  "language_info": {
   "codemirror_mode": {
    "name": "ipython",
    "version": 3
   },
   "file_extension": ".py",
   "mimetype": "text/x-python",
   "name": "python",
   "nbconvert_exporter": "python",
   "pygments_lexer": "ipython3",
   "version": "3.13.2"
  }
 },
 "nbformat": 4,
 "nbformat_minor": 5
}
